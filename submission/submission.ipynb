{
 "cells": [
  {
   "cell_type": "markdown",
   "metadata": {},
   "source": [
    "# Poses Submission for FEGrow/ A3FE"
   ]
  },
  {
   "cell_type": "code",
   "execution_count": null,
   "metadata": {},
   "outputs": [
    {
     "name": "stderr",
     "output_type": "stream",
     "text": [
      "<frozen importlib._bootstrap>:241: RuntimeWarning: to-Python converter for std::vector<double, std::allocator<double> > already registered; second conversion method ignored.\n"
     ]
    },
    {
     "data": {
      "application/vnd.jupyter.widget-view+json": {
       "model_id": "c7524d87c7d74feba50e2410b99ea230",
       "version_major": 2,
       "version_minor": 0
      },
      "text/plain": []
     },
     "metadata": {},
     "output_type": "display_data"
    },
    {
     "name": "stderr",
     "output_type": "stream",
     "text": [
      "INFO:httpx:HTTP Request: POST https://clerk.polarishub.io/oauth/token \"HTTP/1.1 200 OK\"\n",
      "INFO:httpx:HTTP Request: POST https://polarishub.io/api/auth/token \"HTTP/1.1 200 OK\"\n",
      "INFO:httpx:HTTP Request: GET https://polarishub.io/api/v1/competition/asap-discovery/antiviral-ligand-poses-2025 \"HTTP/1.1 200 OK\"\n",
      "INFO:httpx:HTTP Request: POST https://polarishub.io/api/auth/token \"HTTP/1.1 200 OK\"\n"
     ]
    },
    {
     "data": {
      "text/html": [
       "<pre style=\"white-space:pre;overflow-x:auto;line-height:normal;font-family:Menlo,'DejaVu Sans Mono',consolas,'Courier New',monospace\"><span style=\"color: #7fbfbf; text-decoration-color: #7fbfbf\">[2025-03-05 06:36:05] </span><span style=\"color: #000080; text-decoration-color: #000080\">INFO    </span> The version of Polaris that was used to create the artifact <span style=\"font-weight: bold\">(</span><span style=\"color: #008080; text-decoration-color: #008080; font-weight: bold\">0.11</span>.<span style=\"color: #008080; text-decoration-color: #008080; font-weight: bold\">0</span><span style=\"font-weight: bold\">)</span> <a href=\"file:///home/finlayclark/anaconda3/envs/mamba/envs/polaris-challenge-a3fe/lib/python3.11/site-packages/polaris/_artifact.py\" target=\"_blank\"><span style=\"color: #7f7f7f; text-decoration-color: #7f7f7f\">_artifact.py</span></a><span style=\"color: #7f7f7f; text-decoration-color: #7f7f7f\">:</span><a href=\"file:///home/finlayclark/anaconda3/envs/mamba/envs/polaris-challenge-a3fe/lib/python3.11/site-packages/polaris/_artifact.py#92\" target=\"_blank\"><span style=\"color: #7f7f7f; text-decoration-color: #7f7f7f\">92</span></a>\n",
       "<span style=\"color: #7fbfbf; text-decoration-color: #7fbfbf\">                      </span>         is different from the currently installed version of Polaris         <span style=\"color: #7f7f7f; text-decoration-color: #7f7f7f\">               </span>\n",
       "<span style=\"color: #7fbfbf; text-decoration-color: #7fbfbf\">                      </span>         <span style=\"font-weight: bold\">(</span><span style=\"color: #008080; text-decoration-color: #008080; font-weight: bold\">0.11</span>.<span style=\"color: #008080; text-decoration-color: #008080; font-weight: bold\">8</span><span style=\"font-weight: bold\">)</span>.                                                            <span style=\"color: #7f7f7f; text-decoration-color: #7f7f7f\">               </span>\n",
       "</pre>\n"
      ],
      "text/plain": [
       "\u001b[2;36m[2025-03-05 06:36:05]\u001b[0m\u001b[2;36m \u001b[0m\u001b[34mINFO    \u001b[0m The version of Polaris that was used to create the artifact \u001b[1m(\u001b[0m\u001b[1;36m0.11\u001b[0m.\u001b[1;36m0\u001b[0m\u001b[1m)\u001b[0m \u001b]8;id=994245;file:///home/finlayclark/anaconda3/envs/mamba/envs/polaris-challenge-a3fe/lib/python3.11/site-packages/polaris/_artifact.py\u001b\\\u001b[2m_artifact.py\u001b[0m\u001b]8;;\u001b\\\u001b[2m:\u001b[0m\u001b]8;id=656691;file:///home/finlayclark/anaconda3/envs/mamba/envs/polaris-challenge-a3fe/lib/python3.11/site-packages/polaris/_artifact.py#92\u001b\\\u001b[2m92\u001b[0m\u001b]8;;\u001b\\\n",
       "\u001b[2;36m                      \u001b[0m         is different from the currently installed version of Polaris         \u001b[2m               \u001b[0m\n",
       "\u001b[2;36m                      \u001b[0m         \u001b[1m(\u001b[0m\u001b[1;36m0.11\u001b[0m.\u001b[1;36m8\u001b[0m\u001b[1m)\u001b[0m.                                                            \u001b[2m               \u001b[0m\n"
      ]
     },
     "metadata": {},
     "output_type": "display_data"
    },
    {
     "name": "stderr",
     "output_type": "stream",
     "text": [
      "INFO:polaris._artifact:The version of Polaris that was used to create the artifact (0.11.0) is different from the currently installed version of Polaris (0.11.8).\n"
     ]
    },
    {
     "data": {
      "text/html": [
       "<pre style=\"white-space:pre;overflow-x:auto;line-height:normal;font-family:Menlo,'DejaVu Sans Mono',consolas,'Courier New',monospace\"><span style=\"color: #7fbfbf; text-decoration-color: #7fbfbf\">                      </span><span style=\"color: #808000; text-decoration-color: #808000\">WARNING </span> You're loading data from a remote location. If the dataset is small     <a href=\"file:///home/finlayclark/anaconda3/envs/mamba/envs/polaris-challenge-a3fe/lib/python3.11/site-packages/polaris/dataset/_base.py\" target=\"_blank\"><span style=\"color: #7f7f7f; text-decoration-color: #7f7f7f\">_base.py</span></a><span style=\"color: #7f7f7f; text-decoration-color: #7f7f7f\">:</span><a href=\"file:///home/finlayclark/anaconda3/envs/mamba/envs/polaris-challenge-a3fe/lib/python3.11/site-packages/polaris/dataset/_base.py#181\" target=\"_blank\"><span style=\"color: #7f7f7f; text-decoration-color: #7f7f7f\">181</span></a>\n",
       "<span style=\"color: #7fbfbf; text-decoration-color: #7fbfbf\">                      </span>         enough, consider caching the dataset first using                        <span style=\"color: #7f7f7f; text-decoration-color: #7f7f7f\">            </span>\n",
       "<span style=\"color: #7fbfbf; text-decoration-color: #7fbfbf\">                      </span>         <span style=\"color: #800080; text-decoration-color: #800080; font-weight: bold\">CompetitionSpecification.cache</span><span style=\"font-weight: bold\">()</span> for more performant data access.       <span style=\"color: #7f7f7f; text-decoration-color: #7f7f7f\">            </span>\n",
       "</pre>\n"
      ],
      "text/plain": [
       "\u001b[2;36m                     \u001b[0m\u001b[2;36m \u001b[0m\u001b[33mWARNING \u001b[0m You're loading data from a remote location. If the dataset is small     \u001b]8;id=786801;file:///home/finlayclark/anaconda3/envs/mamba/envs/polaris-challenge-a3fe/lib/python3.11/site-packages/polaris/dataset/_base.py\u001b\\\u001b[2m_base.py\u001b[0m\u001b]8;;\u001b\\\u001b[2m:\u001b[0m\u001b]8;id=788480;file:///home/finlayclark/anaconda3/envs/mamba/envs/polaris-challenge-a3fe/lib/python3.11/site-packages/polaris/dataset/_base.py#181\u001b\\\u001b[2m181\u001b[0m\u001b]8;;\u001b\\\n",
       "\u001b[2;36m                      \u001b[0m         enough, consider caching the dataset first using                        \u001b[2m            \u001b[0m\n",
       "\u001b[2;36m                      \u001b[0m         \u001b[1;35mCompetitionSpecification.cache\u001b[0m\u001b[1m(\u001b[0m\u001b[1m)\u001b[0m for more performant data access.       \u001b[2m            \u001b[0m\n"
      ]
     },
     "metadata": {},
     "output_type": "display_data"
    },
    {
     "name": "stderr",
     "output_type": "stream",
     "text": [
      "WARNING:polaris.dataset._base:You're loading data from a remote location. If the dataset is small enough, consider caching the dataset first using CompetitionSpecification.cache() for more performant data access.\n",
      "INFO:httpx:HTTP Request: POST https://polarishub.io/api/auth/token \"HTTP/1.1 200 OK\"\n"
     ]
    },
    {
     "data": {
      "application/vnd.jupyter.widget-view+json": {
       "model_id": "1072506deeaf4999999e0e8587e62a6b",
       "version_major": 2,
       "version_minor": 0
      },
      "text/plain": [
       "Output()"
      ]
     },
     "metadata": {},
     "output_type": "display_data"
    },
    {
     "data": {
      "text/html": [
       "<pre style=\"white-space:pre;overflow-x:auto;line-height:normal;font-family:Menlo,'DejaVu Sans Mono',consolas,'Courier New',monospace\"><span style=\"color: #7fbfbf; text-decoration-color: #7fbfbf\">[06:36:06] </span><span style=\"color: #008000; text-decoration-color: #008000\">Copying to destination </span>                                                                     <a href=\"file:///home/finlayclark/anaconda3/envs/mamba/envs/polaris-challenge-a3fe/lib/python3.11/site-packages/polaris/dataset/_base.py\" target=\"_blank\"><span style=\"color: #7f7f7f; text-decoration-color: #7f7f7f\">_base.py</span></a><span style=\"color: #7f7f7f; text-decoration-color: #7f7f7f\">:</span><a href=\"file:///home/finlayclark/anaconda3/envs/mamba/envs/polaris-challenge-a3fe/lib/python3.11/site-packages/polaris/dataset/_base.py#380\" target=\"_blank\"><span style=\"color: #7f7f7f; text-decoration-color: #7f7f7f\">380</span></a>\n",
       "<span style=\"color: #7fbfbf; text-decoration-color: #7fbfbf\">           </span><span style=\"color: #008000; text-decoration-color: #008000\">/home/finlayclark/.cache/polaris/datasets/b3a42b84-6521-4824-8700-754e5a3e1058/data.zarr</span>    <span style=\"color: #7f7f7f; text-decoration-color: #7f7f7f\">            </span>\n",
       "</pre>\n"
      ],
      "text/plain": [
       "\u001b[2;36m[06:36:06]\u001b[0m\u001b[2;36m \u001b[0m\u001b[32mCopying to destination \u001b[0m                                                                     \u001b]8;id=519152;file:///home/finlayclark/anaconda3/envs/mamba/envs/polaris-challenge-a3fe/lib/python3.11/site-packages/polaris/dataset/_base.py\u001b\\\u001b[2m_base.py\u001b[0m\u001b]8;;\u001b\\\u001b[2m:\u001b[0m\u001b]8;id=408986;file:///home/finlayclark/anaconda3/envs/mamba/envs/polaris-challenge-a3fe/lib/python3.11/site-packages/polaris/dataset/_base.py#380\u001b\\\u001b[2m380\u001b[0m\u001b]8;;\u001b\\\n",
       "\u001b[2;36m           \u001b[0m\u001b[32m/home/finlayclark/.cache/polaris/datasets/b3a42b84-6521-4824-8700-754e5a3e1058/\u001b[0m\u001b[32mdata.zarr\u001b[0m    \u001b[2m            \u001b[0m\n"
      ]
     },
     "metadata": {},
     "output_type": "display_data"
    },
    {
     "data": {
      "text/html": [
       "<pre style=\"white-space:pre;overflow-x:auto;line-height:normal;font-family:Menlo,'DejaVu Sans Mono',consolas,'Courier New',monospace\"><span style=\"color: #7fbfbf; text-decoration-color: #7fbfbf\">           </span><span style=\"color: #808000; text-decoration-color: #808000\">For large Zarr archives, this may take a while.</span>                                             <a href=\"file:///home/finlayclark/anaconda3/envs/mamba/envs/polaris-challenge-a3fe/lib/python3.11/site-packages/polaris/dataset/_base.py\" target=\"_blank\"><span style=\"color: #7f7f7f; text-decoration-color: #7f7f7f\">_base.py</span></a><span style=\"color: #7f7f7f; text-decoration-color: #7f7f7f\">:</span><a href=\"file:///home/finlayclark/anaconda3/envs/mamba/envs/polaris-challenge-a3fe/lib/python3.11/site-packages/polaris/dataset/_base.py#381\" target=\"_blank\"><span style=\"color: #7f7f7f; text-decoration-color: #7f7f7f\">381</span></a>\n",
       "</pre>\n"
      ],
      "text/plain": [
       "\u001b[2;36m          \u001b[0m\u001b[2;36m \u001b[0m\u001b[33mFor large Zarr archives, this may take a while.\u001b[0m                                             \u001b]8;id=600116;file:///home/finlayclark/anaconda3/envs/mamba/envs/polaris-challenge-a3fe/lib/python3.11/site-packages/polaris/dataset/_base.py\u001b\\\u001b[2m_base.py\u001b[0m\u001b]8;;\u001b\\\u001b[2m:\u001b[0m\u001b]8;id=129175;file:///home/finlayclark/anaconda3/envs/mamba/envs/polaris-challenge-a3fe/lib/python3.11/site-packages/polaris/dataset/_base.py#381\u001b\\\u001b[2m381\u001b[0m\u001b]8;;\u001b\\\n"
      ]
     },
     "metadata": {},
     "output_type": "display_data"
    },
    {
     "name": "stderr",
     "output_type": "stream",
     "text": [
      "WARNING:urllib3.connectionpool:Connection pool is full, discarding connection: 874f02b9d981bd6c279e979c0d91c4b4.r2.cloudflarestorage.com. Connection pool size: 10\n",
      "WARNING:urllib3.connectionpool:Connection pool is full, discarding connection: 874f02b9d981bd6c279e979c0d91c4b4.r2.cloudflarestorage.com. Connection pool size: 10\n",
      "WARNING:urllib3.connectionpool:Connection pool is full, discarding connection: 874f02b9d981bd6c279e979c0d91c4b4.r2.cloudflarestorage.com. Connection pool size: 10\n",
      "WARNING:urllib3.connectionpool:Connection pool is full, discarding connection: 874f02b9d981bd6c279e979c0d91c4b4.r2.cloudflarestorage.com. Connection pool size: 10\n",
      "WARNING:urllib3.connectionpool:Connection pool is full, discarding connection: 874f02b9d981bd6c279e979c0d91c4b4.r2.cloudflarestorage.com. Connection pool size: 10\n",
      "WARNING:urllib3.connectionpool:Connection pool is full, discarding connection: 874f02b9d981bd6c279e979c0d91c4b4.r2.cloudflarestorage.com. Connection pool size: 10\n",
      "WARNING:urllib3.connectionpool:Connection pool is full, discarding connection: 874f02b9d981bd6c279e979c0d91c4b4.r2.cloudflarestorage.com. Connection pool size: 10\n",
      "WARNING:urllib3.connectionpool:Connection pool is full, discarding connection: 874f02b9d981bd6c279e979c0d91c4b4.r2.cloudflarestorage.com. Connection pool size: 10\n",
      "WARNING:urllib3.connectionpool:Connection pool is full, discarding connection: 874f02b9d981bd6c279e979c0d91c4b4.r2.cloudflarestorage.com. Connection pool size: 10\n",
      "WARNING:urllib3.connectionpool:Connection pool is full, discarding connection: 874f02b9d981bd6c279e979c0d91c4b4.r2.cloudflarestorage.com. Connection pool size: 10\n",
      "WARNING:urllib3.connectionpool:Connection pool is full, discarding connection: 874f02b9d981bd6c279e979c0d91c4b4.r2.cloudflarestorage.com. Connection pool size: 10\n",
      "WARNING:urllib3.connectionpool:Connection pool is full, discarding connection: 874f02b9d981bd6c279e979c0d91c4b4.r2.cloudflarestorage.com. Connection pool size: 10\n",
      "WARNING:urllib3.connectionpool:Connection pool is full, discarding connection: 874f02b9d981bd6c279e979c0d91c4b4.r2.cloudflarestorage.com. Connection pool size: 10\n",
      "WARNING:urllib3.connectionpool:Connection pool is full, discarding connection: 874f02b9d981bd6c279e979c0d91c4b4.r2.cloudflarestorage.com. Connection pool size: 10\n"
     ]
    },
    {
     "name": "stderr",
     "output_type": "stream",
     "text": [
      "WARNING:urllib3.connectionpool:Connection pool is full, discarding connection: 874f02b9d981bd6c279e979c0d91c4b4.r2.cloudflarestorage.com. Connection pool size: 10\n",
      "WARNING:urllib3.connectionpool:Connection pool is full, discarding connection: 874f02b9d981bd6c279e979c0d91c4b4.r2.cloudflarestorage.com. Connection pool size: 10\n",
      "WARNING:urllib3.connectionpool:Connection pool is full, discarding connection: 874f02b9d981bd6c279e979c0d91c4b4.r2.cloudflarestorage.com. Connection pool size: 10\n"
     ]
    },
    {
     "name": "stderr",
     "output_type": "stream",
     "text": [
      "WARNING:urllib3.connectionpool:Connection pool is full, discarding connection: 874f02b9d981bd6c279e979c0d91c4b4.r2.cloudflarestorage.com. Connection pool size: 10\n",
      "WARNING:urllib3.connectionpool:Connection pool is full, discarding connection: 874f02b9d981bd6c279e979c0d91c4b4.r2.cloudflarestorage.com. Connection pool size: 10\n",
      "WARNING:urllib3.connectionpool:Connection pool is full, discarding connection: 874f02b9d981bd6c279e979c0d91c4b4.r2.cloudflarestorage.com. Connection pool size: 10\n",
      "WARNING:urllib3.connectionpool:Connection pool is full, discarding connection: 874f02b9d981bd6c279e979c0d91c4b4.r2.cloudflarestorage.com. Connection pool size: 10\n",
      "WARNING:urllib3.connectionpool:Connection pool is full, discarding connection: 874f02b9d981bd6c279e979c0d91c4b4.r2.cloudflarestorage.com. Connection pool size: 10\n",
      "WARNING:urllib3.connectionpool:Connection pool is full, discarding connection: 874f02b9d981bd6c279e979c0d91c4b4.r2.cloudflarestorage.com. Connection pool size: 10\n",
      "WARNING:urllib3.connectionpool:Connection pool is full, discarding connection: 874f02b9d981bd6c279e979c0d91c4b4.r2.cloudflarestorage.com. Connection pool size: 10\n",
      "WARNING:urllib3.connectionpool:Connection pool is full, discarding connection: 874f02b9d981bd6c279e979c0d91c4b4.r2.cloudflarestorage.com. Connection pool size: 10\n",
      "WARNING:urllib3.connectionpool:Connection pool is full, discarding connection: 874f02b9d981bd6c279e979c0d91c4b4.r2.cloudflarestorage.com. Connection pool size: 10\n"
     ]
    },
    {
     "name": "stderr",
     "output_type": "stream",
     "text": [
      "WARNING:urllib3.connectionpool:Connection pool is full, discarding connection: 874f02b9d981bd6c279e979c0d91c4b4.r2.cloudflarestorage.com. Connection pool size: 10\n",
      "WARNING:urllib3.connectionpool:Connection pool is full, discarding connection: 874f02b9d981bd6c279e979c0d91c4b4.r2.cloudflarestorage.com. Connection pool size: 10\n"
     ]
    },
    {
     "name": "stderr",
     "output_type": "stream",
     "text": [
      "WARNING:urllib3.connectionpool:Connection pool is full, discarding connection: 874f02b9d981bd6c279e979c0d91c4b4.r2.cloudflarestorage.com. Connection pool size: 10\n",
      "WARNING:urllib3.connectionpool:Connection pool is full, discarding connection: 874f02b9d981bd6c279e979c0d91c4b4.r2.cloudflarestorage.com. Connection pool size: 10\n",
      "WARNING:urllib3.connectionpool:Connection pool is full, discarding connection: 874f02b9d981bd6c279e979c0d91c4b4.r2.cloudflarestorage.com. Connection pool size: 10\n",
      "WARNING:urllib3.connectionpool:Connection pool is full, discarding connection: 874f02b9d981bd6c279e979c0d91c4b4.r2.cloudflarestorage.com. Connection pool size: 10\n",
      "WARNING:urllib3.connectionpool:Connection pool is full, discarding connection: 874f02b9d981bd6c279e979c0d91c4b4.r2.cloudflarestorage.com. Connection pool size: 10\n",
      "WARNING:urllib3.connectionpool:Connection pool is full, discarding connection: 874f02b9d981bd6c279e979c0d91c4b4.r2.cloudflarestorage.com. Connection pool size: 10\n",
      "WARNING:urllib3.connectionpool:Connection pool is full, discarding connection: 874f02b9d981bd6c279e979c0d91c4b4.r2.cloudflarestorage.com. Connection pool size: 10\n",
      "WARNING:urllib3.connectionpool:Connection pool is full, discarding connection: 874f02b9d981bd6c279e979c0d91c4b4.r2.cloudflarestorage.com. Connection pool size: 10\n",
      "WARNING:urllib3.connectionpool:Connection pool is full, discarding connection: 874f02b9d981bd6c279e979c0d91c4b4.r2.cloudflarestorage.com. Connection pool size: 10\n",
      "WARNING:urllib3.connectionpool:Connection pool is full, discarding connection: 874f02b9d981bd6c279e979c0d91c4b4.r2.cloudflarestorage.com. Connection pool size: 10\n",
      "WARNING:urllib3.connectionpool:Connection pool is full, discarding connection: 874f02b9d981bd6c279e979c0d91c4b4.r2.cloudflarestorage.com. Connection pool size: 10\n"
     ]
    },
    {
     "name": "stderr",
     "output_type": "stream",
     "text": [
      "WARNING:urllib3.connectionpool:Connection pool is full, discarding connection: 874f02b9d981bd6c279e979c0d91c4b4.r2.cloudflarestorage.com. Connection pool size: 10\n"
     ]
    },
    {
     "name": "stderr",
     "output_type": "stream",
     "text": [
      "WARNING:urllib3.connectionpool:Connection pool is full, discarding connection: 874f02b9d981bd6c279e979c0d91c4b4.r2.cloudflarestorage.com. Connection pool size: 10\n",
      "WARNING:urllib3.connectionpool:Connection pool is full, discarding connection: 874f02b9d981bd6c279e979c0d91c4b4.r2.cloudflarestorage.com. Connection pool size: 10\n"
     ]
    },
    {
     "data": {
      "text/html": [
       "<pre style=\"white-space:pre;overflow-x:auto;line-height:normal;font-family:Menlo,'DejaVu Sans Mono',consolas,'Courier New',monospace\"><span style=\"color: #7fbfbf; text-decoration-color: #7fbfbf\">[06:36:13] </span><span style=\"color: #008000; text-decoration-color: #008000\"> Success: Copying Zarr keys</span>                                                                <a href=\"file:///home/finlayclark/anaconda3/envs/mamba/envs/polaris-challenge-a3fe/lib/python3.11/site-packages/polaris/utils/context.py\" target=\"_blank\"><span style=\"color: #7f7f7f; text-decoration-color: #7f7f7f\">context.py</span></a><span style=\"color: #7f7f7f; text-decoration-color: #7f7f7f\">:</span><a href=\"file:///home/finlayclark/anaconda3/envs/mamba/envs/polaris-challenge-a3fe/lib/python3.11/site-packages/polaris/utils/context.py#53\" target=\"_blank\"><span style=\"color: #7f7f7f; text-decoration-color: #7f7f7f\">53</span></a>\n",
       "</pre>\n"
      ],
      "text/plain": [
       "\u001b[2;36m[06:36:13]\u001b[0m\u001b[2;36m \u001b[0m\u001b[32m Success: Copying Zarr keys\u001b[0m                                                                \u001b]8;id=301208;file:///home/finlayclark/anaconda3/envs/mamba/envs/polaris-challenge-a3fe/lib/python3.11/site-packages/polaris/utils/context.py\u001b\\\u001b[2mcontext.py\u001b[0m\u001b]8;;\u001b\\\u001b[2m:\u001b[0m\u001b]8;id=145531;file:///home/finlayclark/anaconda3/envs/mamba/envs/polaris-challenge-a3fe/lib/python3.11/site-packages/polaris/utils/context.py#53\u001b\\\u001b[2m53\u001b[0m\u001b]8;;\u001b\\\n"
      ]
     },
     "metadata": {},
     "output_type": "display_data"
    },
    {
     "data": {
      "text/html": [
       "<pre style=\"white-space:pre;overflow-x:auto;line-height:normal;font-family:Menlo,'DejaVu Sans Mono',consolas,'Courier New',monospace\"><span style=\"color: #7fbfbf; text-decoration-color: #7fbfbf\">           </span><span style=\"color: #008000; text-decoration-color: #008000\"> Success: Copying Zarr archive</span>                                                             <a href=\"file:///home/finlayclark/anaconda3/envs/mamba/envs/polaris-challenge-a3fe/lib/python3.11/site-packages/polaris/utils/context.py\" target=\"_blank\"><span style=\"color: #7f7f7f; text-decoration-color: #7f7f7f\">context.py</span></a><span style=\"color: #7f7f7f; text-decoration-color: #7f7f7f\">:</span><a href=\"file:///home/finlayclark/anaconda3/envs/mamba/envs/polaris-challenge-a3fe/lib/python3.11/site-packages/polaris/utils/context.py#53\" target=\"_blank\"><span style=\"color: #7f7f7f; text-decoration-color: #7f7f7f\">53</span></a>\n",
       "</pre>\n"
      ],
      "text/plain": [
       "\u001b[2;36m          \u001b[0m\u001b[2;36m \u001b[0m\u001b[32m Success: Copying Zarr archive\u001b[0m                                                             \u001b]8;id=811322;file:///home/finlayclark/anaconda3/envs/mamba/envs/polaris-challenge-a3fe/lib/python3.11/site-packages/polaris/utils/context.py\u001b\\\u001b[2mcontext.py\u001b[0m\u001b]8;;\u001b\\\u001b[2m:\u001b[0m\u001b]8;id=973397;file:///home/finlayclark/anaconda3/envs/mamba/envs/polaris-challenge-a3fe/lib/python3.11/site-packages/polaris/utils/context.py#53\u001b\\\u001b[2m53\u001b[0m\u001b]8;;\u001b\\\n"
      ]
     },
     "metadata": {},
     "output_type": "display_data"
    },
    {
     "data": {
      "text/html": [
       "<pre style=\"white-space:pre;overflow-x:auto;line-height:normal;font-family:Menlo,'DejaVu Sans Mono',consolas,'Courier New',monospace\"></pre>\n"
      ],
      "text/plain": []
     },
     "metadata": {},
     "output_type": "display_data"
    }
   ],
   "source": [
    "import os\n",
    "import polaris as po\n",
    "import base64\n",
    "import pymol\n",
    "from tqdm import tqdm\n",
    "from rdkit import Chem\n",
    "import datamol as dm\n",
    "from pathlib import Path\n",
    "import openeye.oechem as oechem\n",
    "\n",
    "competition = po.load_competition(\"asap-discovery/antiviral-ligand-poses-2025\")\n",
    "competition.cache()\n",
    "_, test = competition.get_train_test_split()"
   ]
  },
  {
   "cell_type": "code",
   "execution_count": 2,
   "metadata": {},
   "outputs": [],
   "source": [
    "def get_abfe_runs_dict(abfe_dir: Path) -> dict[int, [int, Path]]:\n",
    "    \"\"\"Create a dictionary of {ligand_index: {pose_index: Path}} from the ABFE directory.\"\"\"\n",
    "    lig_idxs = set([int(calc_dir.name.split(\"_\")[1]) for calc_dir in abfe_dir.glob(\"lig_*\")])\n",
    "    lig_runs = {}\n",
    "    for lig_idx in lig_idxs:\n",
    "        lig_runs[lig_idx] = {int(calc_dir.name.split(\"_\")[2]): calc_dir for calc_dir in abfe_dir.glob(f\"lig_{lig_idx}_*\")}\n",
    "    return lig_runs\n",
    "\n",
    "# Pure docking\n",
    "MERS_DOCKED_SDF = Path(\"../mers-gnina/merged-MERS.sdf\")\n",
    "MERS_ALTERNATE_PROTONATION = Path(\"../mers-gnina/cs_optimised_reprotonated.sdf\")\n",
    "SARS_DOCKED_SDF = Path(\"../sars-gnina/merged-SARS.sdf\")\n",
    "\n",
    "# ABFE\n",
    "MERS_ABFE_DIR = Path(\"../mers-040225\")\n",
    "# Store the SDFs as a dict of ligand_index: SDF_path\n",
    "MERS_ABFE_SDFS = {int(lig_sdf.name.split(\"_\")[-1].split(\".\")[0]): lig_sdf for lig_sdf in (MERS_ABFE_DIR / \"input\" / \"full_run-MERS\" / \"structures\").glob(\"*.sdf\")}\n",
    "MERS_ABFE_RUNS = get_abfe_runs_dict(MERS_ABFE_DIR)\n",
    "\n",
    "SARS_ABFE_DIR = Path(\"../sars-290125-plato\")\n",
    "SARS_ABFE_SDFS = {int(lig_sdf.name.split(\"_\")[-1].split(\".\")[0]): lig_sdf for lig_sdf in (SARS_ABFE_DIR / \"input\" / \"full_run-SARS\" / \"structures\").glob(\"*.sdf\")}\n",
    "SARS_ABFE_RUNS = get_abfe_runs_dict(SARS_ABFE_DIR)\n",
    "\n",
    "SARS_ABFE_EXTRA_POSES_DIR = Path(\"../sars-extra-poses-210225\")\n",
    "SARS_ABFE_EXTRA_POSES_SDFS = {int(lig_sdf.name.split(\"_\")[-1].split(\".\")[0]): lig_sdf for lig_sdf in (SARS_ABFE_EXTRA_POSES_DIR / \"input\" / \"structures-SARS-comp48\").glob(\"*.sdf\")}\n",
    "SARS_ABFE_EXTRA_POSES_RUNS = get_abfe_runs_dict(SARS_ABFE_EXTRA_POSES_DIR)\n",
    "\n",
    "# Reference structures\n",
    "MERS_REF = Path(\"../ref_structures/mers_ref.pdb\")\n",
    "SARS_REF = Path(\"../ref_structures/sars_ref.pdb\")\n",
    "\n",
    "# Containers for results\n",
    "y_pred_mers = []\n",
    "y_pred_sars = []"
   ]
  },
  {
   "cell_type": "markdown",
   "metadata": {},
   "source": [
    "## Extract Docked Structures\n",
    "\n",
    "These are just the best-scoring (with GNINA) structures from docking (for problematic poses for which ABFE was not run)."
   ]
  },
  {
   "cell_type": "code",
   "execution_count": 3,
   "metadata": {},
   "outputs": [],
   "source": [
    "def read_sdf(sdf:Path)-> list[Chem.Mol]:\n",
    "    with Chem.SDMolSupplier(sdf.as_posix()) as suppl:\n",
    "        mols = [mol for mol in suppl if mol]\n",
    "        # Check that no molecules are None\n",
    "        assert all(mols)\n",
    "    return mols\n",
    "\n",
    "y_pred_mers.extend(read_sdf(MERS_DOCKED_SDF))\n",
    "y_pred_mers.extend(read_sdf(MERS_ALTERNATE_PROTONATION))\n",
    "y_pred_sars.extend(read_sdf(SARS_DOCKED_SDF))"
   ]
  },
  {
   "cell_type": "markdown",
   "metadata": {},
   "source": [
    "## Select the Poses Scored Best with Fast ABFE\n",
    "\n",
    "(Run using A3FE)"
   ]
  },
  {
   "cell_type": "code",
   "execution_count": null,
   "metadata": {},
   "outputs": [],
   "source": [
    "# Functions to extract the equilibrated poses from the ABFE runs\n",
    "# This is very convoluted and there has to be a better way...\n",
    "# Let me know if you know a better method.\n",
    "\n",
    "def swap_coordinates_if_order_matches(\n",
    "    coords_sdf_path: Path, connectivity_sdf_path: Path, output_sdf_path: Path\n",
    ") -> None:\n",
    "    \"\"\"\n",
    "    Check if two SDFs have the same atom order. If they do, swap coordinates from the\n",
    "    coords_sdf to the connectivity_sdf and save the result.\n",
    "    \"\"\"\n",
    "    # Load the SDF molecules\n",
    "    coords_supplier = Chem.SDMolSupplier(str(coords_sdf_path))\n",
    "    connectivity_supplier = Chem.SDMolSupplier(str(connectivity_sdf_path))\n",
    "    \n",
    "    coords_mol = coords_supplier[0]\n",
    "    connectivity_mol = connectivity_supplier[0]\n",
    "\n",
    "    if coords_mol is None or connectivity_mol is None:\n",
    "        raise ValueError(\"Molecules are None.\")\n",
    "\n",
    "    # Check if the number of atoms is the same\n",
    "    if coords_mol.GetNumAtoms() != connectivity_mol.GetNumAtoms():\n",
    "        raise ValueError(\"Number of atoms do not match.\")\n",
    "    \n",
    "    # Check if the atom types match for both molecules\n",
    "    for atom1, atom2 in zip(coords_mol.GetAtoms(), connectivity_mol.GetAtoms()):\n",
    "        if atom1.GetSymbol() != atom2.GetSymbol():\n",
    "            raise ValueError(\"Atom types do not match.\")\n",
    "\n",
    "    # Extract the conformers (coordinates)\n",
    "    coords_conformer = coords_mol.GetConformer(0)\n",
    "    connectivity_conformer = connectivity_mol.GetConformer(0)\n",
    "    \n",
    "    if coords_conformer is None or connectivity_conformer is None:\n",
    "        raise ValueError(\"Conformers are None.\")\n",
    "\n",
    "    # Swap the coordinates from coords_mol to connectivity_mol\n",
    "    for i in range(coords_mol.GetNumAtoms()):\n",
    "        pos = coords_conformer.GetAtomPosition(i)\n",
    "        connectivity_conformer.SetAtomPosition(i, pos)\n",
    "\n",
    "    # Save the new SDF with swapped coordinates\n",
    "    writer = Chem.SDWriter(str(output_sdf_path))\n",
    "    writer.write(connectivity_mol)\n",
    "    writer.close()\n",
    "\n",
    "\n",
    "def align_pred(abfe_dir: Path, ref_path:Path) -> Path:\n",
    "\n",
    "    # Write the protein pdb\n",
    "    input_dir = abfe_dir / \"input\"\n",
    "    aligned_pdb_path = input_dir / \"bound_preequil_aligned.pdb\"\n",
    "    parm7_path = input_dir / \"bound_preequil.parm7\"\n",
    "    rst7_path = input_dir / \"bound_preequil.rst7\"\n",
    "    aligned_oe_sdf_path = input_dir / \"ligand_aligned_oe.sdf\"\n",
    "    aligned_sdf_path = input_dir / \"ligand_aligned_final.sdf\"\n",
    "\n",
    "    # Create a soft link to \"bound_preequil.prm7\" as \"bound_preequil.parm7\" so that pymol can read it.\n",
    "    if not (abfe_dir / \"input\" / \"bound_preequil.parm7\").exists():\n",
    "        os.symlink((abfe_dir / \"input\" / \"bound_preequil.prm7\").absolute(), (abfe_dir / \"input\" / \"bound_preequil.parm7\").absolute())\n",
    "\n",
    "    # Align the protein to the reference\n",
    "    pymol.cmd.delete(\"all\")\n",
    "\n",
    "    # Aligning by binding site residues only didn't change things much\n",
    "    binding_site_res_8 = ['46', '126', '173', '47', '54', '186', '144', '21', '39', '175', '20', '189', '190', '44', '166', '118', '138', '192', '25', '165', '42', '24', '163', '41', '185', '139', '181', '27', '49', '50', '1', '141', '22', '145', '187', '170', '146', '52', '140', '45', '161', '167', '2', '164', '26', '40', '28', '23', '48', '85', '142', '43', '171', '188', '174', '143', '147', '172']\n",
    "    binding_site_res_5 = ['46', '54', '144', '189', '44', '166', '25', '165', '42', '163', '24', '41', '181', '27', '49', '1', '141', '145', '187', '140', '164', '26', '142', '188', '143', '172']\n",
    "\n",
    "    # Load into pymol - from amber files\n",
    "    pymol.cmd.load(parm7_path, \"mobile\")\n",
    "    pymol.cmd.load(rst7_path, \"mobile\")\n",
    "    pymol.cmd.load(ref_path, \"reference\")\n",
    "    pymol.cmd.align(\n",
    "        \"polymer and mobile\",\n",
    "        \"chain A and reference\",\n",
    "        # \"resi \" + \"+\".join(binding_site_res_8) + \" and mobile\",\n",
    "        # \"resi \" + \"+\".join(binding_site_res_8) + \" and reference\",\n",
    "    )\n",
    "\n",
    "    session_path = input_dir / \"bound_preequil_aligned.pse\"\n",
    "    pymol.cmd.save(session_path)\n",
    "    pymol.cmd.save(aligned_pdb_path, \"mobile and resname LIG\")\n",
    "\n",
    "    # Process the aligned pdb to get the sdf with openeye\n",
    "    ifs = oechem.oemolistream(aligned_pdb_path.as_posix())\n",
    "    mol = oechem.OEMol()\n",
    "    oechem.OEReadMolecule(ifs, mol)\n",
    "    ifs.close()\n",
    "\n",
    "    # Add aromaticity/ stereochemistry etc\n",
    "    oechem.OEClearAromaticFlags(mol)\n",
    "    oechem.OEAssignAromaticFlags(mol, oechem.OEAroModel_MDL)\n",
    "    oechem.OEAssignHybridization(mol)\n",
    "    oechem.OEAddExplicitHydrogens(mol)\n",
    "\n",
    "    ofs = oechem.oemolostream(aligned_oe_sdf_path.as_posix())\n",
    "    oechem.OEWriteMolecule(ofs, mol)\n",
    "    ofs.close()\n",
    "\n",
    "    # The openeye sdf still doesn't have all the information we need, so\n",
    "    # swap the coordinates from the aligned OE sdf to the original sdf,\n",
    "    # which are in the correct order.\n",
    "    swap_coordinates_if_order_matches(aligned_oe_sdf_path, abfe_dir / \"input\" / \"ligand.sdf\", aligned_sdf_path)\n",
    "\n",
    "    # Read in the final aligned SDF and add back hydrogens with OE\n",
    "    ifs = oechem.oemolistream(aligned_sdf_path.as_posix())\n",
    "    mol = oechem.OEMol()\n",
    "    oechem.OEReadMolecule(ifs, mol)\n",
    "    oechem.OEAddExplicitHydrogens(mol)\n",
    "    ofs = oechem.oemolostream(aligned_sdf_path.as_posix())\n",
    "    oechem.OEWriteMolecule(ofs, mol)\n",
    "    ofs.close()\n",
    "\n",
    "    return aligned_sdf_path\n",
    "\n",
    "def get_equil_rdmol(abfe_dir:Path, ref_path:Path) -> Chem.Mol:\n",
    "\n",
    "    aligned_sdf_path = align_pred(abfe_dir, ref_path)\n",
    "    aligned_rdmol = Chem.SDMolSupplier(aligned_sdf_path.as_posix())[0]\n",
    "    assert aligned_rdmol, f\"Failed to read molecule from {aligned_sdf_path}\"\n",
    "\n",
    "    return aligned_rdmol"
   ]
  },
  {
   "cell_type": "code",
   "execution_count": 5,
   "metadata": {},
   "outputs": [
    {
     "name": "stdout",
     "output_type": "stream",
     "text": [
      " ObjectMolecule: read coordinates into state 1...\n"
     ]
    },
    {
     "name": "stderr",
     "output_type": "stream",
     "text": [
      "Warning: OE3DToAtomStereo is unable to perceive atom stereo from a flat geometry on atom 1 of molecule ''\n",
      "Warning: OE3DToAtomStereo had a problem during OEWriteMolecule when writing ''\n"
     ]
    },
    {
     "data": {
      "text/plain": [
       "1.9809105882448834"
      ]
     },
     "execution_count": 5,
     "metadata": {},
     "output_type": "execute_result"
    }
   ],
   "source": [
    "# Sanity check\n",
    "aligned_mol = get_equil_rdmol(SARS_ABFE_RUNS[51][3], SARS_REF)\n",
    "orig_mol = read_sdf(SARS_ABFE_SDFS[51])[3]\n",
    "# Check that they are the same molecule\n",
    "assert Chem.MolToSmiles(aligned_mol) == Chem.MolToSmiles(orig_mol)\n",
    "Chem.rdMolAlign.CalcRMS(aligned_mol, orig_mol)"
   ]
  },
  {
   "cell_type": "code",
   "execution_count": 39,
   "metadata": {},
   "outputs": [
    {
     "data": {
      "image/png": "[encoded data removed]",
      "text/html": [
       "<table><tr><td colspan=\"2\" style=\"text-align: center;\"><image src=\"data:image/png;base64,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\"></td></tr>\n",
       "<tr><th style=\"text-align: right\">MODEL</th><td style=\"text-align: left\">       4</td></tr></table>"
      ],
      "text/plain": [
       "<rdkit.Chem.rdchem.Mol at 0x7fcb484f9ee0>"
      ]
     },
     "execution_count": 39,
     "metadata": {},
     "output_type": "execute_result"
    }
   ],
   "source": [
    "aligned_mol"
   ]
  },
  {
   "cell_type": "code",
   "execution_count": 33,
   "metadata": {},
   "outputs": [
    {
     "data": {
      "image/png": "[encoded data removed]",
      "text/html": [
       "<table><tr><td colspan=\"2\" style=\"text-align: center;\"><image src=\"data:image/png;base64,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\"></td></tr>\n",
       "<tr><th style=\"text-align: right\">MODEL</th><td style=\"text-align: left\">       4</td></tr></table>"
      ],
      "text/plain": [
       "<rdkit.Chem.rdchem.Mol at 0x7fcb484e7610>"
      ]
     },
     "execution_count": 33,
     "metadata": {},
     "output_type": "execute_result"
    }
   ],
   "source": [
    "orig_mol"
   ]
  },
  {
   "cell_type": "code",
   "execution_count": 6,
   "metadata": {},
   "outputs": [
    {
     "name": "stdout",
     "output_type": "stream",
     "text": [
      " ObjectMolecule: read coordinates into state 1...\n",
      " ObjectMolecule: read coordinates into state 1...\n",
      " ObjectMolecule: read coordinates into state 1...\n",
      " ObjectMolecule: read coordinates into state 1...\n",
      " ObjectMolecule: read coordinates into state 1...\n",
      " ObjectMolecule: read coordinates into state 1...\n",
      " ObjectMolecule: read coordinates into state 1...\n",
      " ObjectMolecule: read coordinates into state 1...\n",
      " ObjectMolecule: read coordinates into state 1...\n",
      "High RMSD of 3.0924029122073615 for ../mers-040225/lig_9_1\n",
      " ObjectMolecule: read coordinates into state 1...\n",
      " ObjectMolecule: read coordinates into state 1...\n",
      " ObjectMolecule: read coordinates into state 1...\n"
     ]
    },
    {
     "name": "stderr",
     "output_type": "stream",
     "text": [
      "Warning: OE3DToAtomStereo is unable to perceive atom stereo from a flat geometry on atom 38 of molecule ''\n",
      "Warning: OE3DToAtomStereo had a problem during OEWriteMolecule when writing ''\n"
     ]
    },
    {
     "name": "stdout",
     "output_type": "stream",
     "text": [
      " ObjectMolecule: read coordinates into state 1...\n",
      " ObjectMolecule: read coordinates into state 1...\n",
      " ObjectMolecule: read coordinates into state 1...\n",
      " ObjectMolecule: read coordinates into state 1...\n",
      " ObjectMolecule: read coordinates into state 1...\n",
      " ObjectMolecule: read coordinates into state 1...\n",
      " ObjectMolecule: read coordinates into state 1...\n",
      " ObjectMolecule: read coordinates into state 1...\n",
      " ObjectMolecule: read coordinates into state 1...\n",
      " ObjectMolecule: read coordinates into state 1...\n",
      " ObjectMolecule: read coordinates into state 1...\n",
      " ObjectMolecule: read coordinates into state 1...\n",
      " ObjectMolecule: read coordinates into state 1...\n",
      " ObjectMolecule: read coordinates into state 1...\n",
      " ObjectMolecule: read coordinates into state 1...\n",
      " ObjectMolecule: read coordinates into state 1...\n",
      " ObjectMolecule: read coordinates into state 1...\n",
      " ObjectMolecule: read coordinates into state 1...\n",
      " ObjectMolecule: read coordinates into state 1...\n",
      " ObjectMolecule: read coordinates into state 1...\n",
      " ObjectMolecule: read coordinates into state 1...\n",
      "High RMSD of 3.2463004962209996 for ../mers-040225/lig_82_2\n",
      " ObjectMolecule: read coordinates into state 1...\n",
      " ObjectMolecule: read coordinates into state 1...\n",
      " ObjectMolecule: read coordinates into state 1...\n",
      "High RMSD of 3.25546467808672 for ../mers-040225/lig_20_1\n",
      " ObjectMolecule: read coordinates into state 1...\n",
      " ObjectMolecule: read coordinates into state 1...\n",
      " ObjectMolecule: read coordinates into state 1...\n",
      " ObjectMolecule: read coordinates into state 1...\n",
      " ObjectMolecule: read coordinates into state 1...\n",
      " ObjectMolecule: read coordinates into state 1...\n",
      " ObjectMolecule: read coordinates into state 1...\n",
      " ObjectMolecule: read coordinates into state 1...\n",
      " ObjectMolecule: read coordinates into state 1...\n",
      " ObjectMolecule: read coordinates into state 1...\n",
      " ObjectMolecule: read coordinates into state 1...\n",
      " ObjectMolecule: read coordinates into state 1...\n",
      "High RMSD of 3.538004617814351 for ../mers-040225/lig_69_0\n",
      " ObjectMolecule: read coordinates into state 1...\n",
      " ObjectMolecule: read coordinates into state 1...\n",
      " ObjectMolecule: read coordinates into state 1...\n",
      " ObjectMolecule: read coordinates into state 1...\n",
      " ObjectMolecule: read coordinates into state 1...\n",
      " ObjectMolecule: read coordinates into state 1...\n",
      " ObjectMolecule: read coordinates into state 1...\n",
      " ObjectMolecule: read coordinates into state 1...\n",
      " ObjectMolecule: read coordinates into state 1...\n",
      " ObjectMolecule: read coordinates into state 1...\n",
      " ObjectMolecule: read coordinates into state 1...\n",
      " ObjectMolecule: read coordinates into state 1...\n",
      "High RMSD of 3.4546788933865122 for ../mers-040225/lig_19_0\n",
      " ObjectMolecule: read coordinates into state 1...\n",
      " ObjectMolecule: read coordinates into state 1...\n",
      " ObjectMolecule: read coordinates into state 1...\n",
      " ObjectMolecule: read coordinates into state 1...\n",
      " ObjectMolecule: read coordinates into state 1...\n",
      " ObjectMolecule: read coordinates into state 1...\n",
      " ObjectMolecule: read coordinates into state 1...\n",
      " ObjectMolecule: read coordinates into state 1...\n",
      " ObjectMolecule: read coordinates into state 1...\n",
      " ObjectMolecule: read coordinates into state 1...\n",
      " ObjectMolecule: read coordinates into state 1...\n",
      " ObjectMolecule: read coordinates into state 1...\n",
      " ObjectMolecule: read coordinates into state 1...\n",
      " ObjectMolecule: read coordinates into state 1...\n",
      " ObjectMolecule: read coordinates into state 1...\n",
      " ObjectMolecule: read coordinates into state 1...\n",
      " ObjectMolecule: read coordinates into state 1...\n",
      " ObjectMolecule: read coordinates into state 1...\n",
      " ObjectMolecule: read coordinates into state 1...\n",
      " ObjectMolecule: read coordinates into state 1...\n",
      " ObjectMolecule: read coordinates into state 1...\n",
      " ObjectMolecule: read coordinates into state 1...\n",
      " ObjectMolecule: read coordinates into state 1...\n",
      " ObjectMolecule: read coordinates into state 1...\n",
      " ObjectMolecule: read coordinates into state 1...\n",
      " ObjectMolecule: read coordinates into state 1...\n",
      "High RMSD of 3.0703919572960996 for ../sars-290125-plato/lig_56_2\n",
      " ObjectMolecule: read coordinates into state 1...\n",
      " ObjectMolecule: read coordinates into state 1...\n",
      " ObjectMolecule: read coordinates into state 1...\n",
      " ObjectMolecule: read coordinates into state 1...\n",
      " ObjectMolecule: read coordinates into state 1...\n"
     ]
    },
    {
     "name": "stderr",
     "output_type": "stream",
     "text": [
      "Warning: OE3DToAtomStereo is unable to perceive atom stereo from a flat geometry on atom 1 of molecule ''\n",
      "Warning: OE3DToAtomStereo had a problem during OEWriteMolecule when writing ''\n"
     ]
    },
    {
     "name": "stdout",
     "output_type": "stream",
     "text": [
      " ObjectMolecule: read coordinates into state 1...\n",
      " ObjectMolecule: read coordinates into state 1...\n",
      " ObjectMolecule: read coordinates into state 1...\n",
      " ObjectMolecule: read coordinates into state 1...\n",
      " ObjectMolecule: read coordinates into state 1...\n",
      " ObjectMolecule: read coordinates into state 1...\n",
      " ObjectMolecule: read coordinates into state 1...\n",
      " ObjectMolecule: read coordinates into state 1...\n",
      " ObjectMolecule: read coordinates into state 1...\n",
      " ObjectMolecule: read coordinates into state 1...\n",
      " ObjectMolecule: read coordinates into state 1...\n",
      " ObjectMolecule: read coordinates into state 1...\n",
      " ObjectMolecule: read coordinates into state 1...\n",
      " ObjectMolecule: read coordinates into state 1...\n",
      " ObjectMolecule: read coordinates into state 1...\n",
      "High RMSD of 3.3962636024229416 for ../sars-290125-plato/lig_4_1\n",
      " ObjectMolecule: read coordinates into state 1...\n",
      " ObjectMolecule: read coordinates into state 1...\n",
      " ObjectMolecule: read coordinates into state 1...\n",
      " ObjectMolecule: read coordinates into state 1...\n",
      " ObjectMolecule: read coordinates into state 1...\n",
      "High RMSD of 3.5498327333527433 for ../sars-290125-plato/lig_72_8\n",
      " ObjectMolecule: read coordinates into state 1...\n",
      " ObjectMolecule: read coordinates into state 1...\n",
      " ObjectMolecule: read coordinates into state 1...\n",
      " ObjectMolecule: read coordinates into state 1...\n",
      " ObjectMolecule: read coordinates into state 1...\n",
      " ObjectMolecule: read coordinates into state 1...\n",
      " ObjectMolecule: read coordinates into state 1...\n",
      " ObjectMolecule: read coordinates into state 1...\n",
      " ObjectMolecule: read coordinates into state 1...\n",
      " ObjectMolecule: read coordinates into state 1...\n",
      " ObjectMolecule: read coordinates into state 1...\n"
     ]
    },
    {
     "name": "stderr",
     "output_type": "stream",
     "text": [
      "Warning: OE3DToAtomStereo is unable to perceive atom stereo from a flat geometry on atom 4 of molecule ''\n",
      "Warning: OE3DToAtomStereo had a problem during OEWriteMolecule when writing ''\n"
     ]
    },
    {
     "name": "stdout",
     "output_type": "stream",
     "text": [
      " ObjectMolecule: read coordinates into state 1...\n",
      " ObjectMolecule: read coordinates into state 1...\n",
      " ObjectMolecule: read coordinates into state 1...\n",
      "High RMSD of 3.3895956662244844 for ../sars-290125-plato/lig_25_2\n",
      " ObjectMolecule: read coordinates into state 1...\n",
      " ObjectMolecule: read coordinates into state 1...\n",
      " ObjectMolecule: read coordinates into state 1...\n",
      " ObjectMolecule: read coordinates into state 1...\n",
      " ObjectMolecule: read coordinates into state 1...\n",
      " ObjectMolecule: read coordinates into state 1...\n",
      " ObjectMolecule: read coordinates into state 1...\n",
      " ObjectMolecule: read coordinates into state 1...\n",
      " ObjectMolecule: read coordinates into state 1...\n",
      " ObjectMolecule: read coordinates into state 1...\n",
      " ObjectMolecule: read coordinates into state 1...\n",
      " ObjectMolecule: read coordinates into state 1...\n",
      " ObjectMolecule: read coordinates into state 1...\n",
      " ObjectMolecule: read coordinates into state 1...\n",
      " ObjectMolecule: read coordinates into state 1...\n",
      " ObjectMolecule: read coordinates into state 1...\n",
      " ObjectMolecule: read coordinates into state 1...\n",
      " ObjectMolecule: read coordinates into state 1...\n",
      " ObjectMolecule: read coordinates into state 1...\n",
      " ObjectMolecule: read coordinates into state 1...\n",
      " ObjectMolecule: read coordinates into state 1...\n",
      " ObjectMolecule: read coordinates into state 1...\n",
      " ObjectMolecule: read coordinates into state 1...\n",
      "High RMSD of 3.187238934967291 for ../sars-290125-plato/lig_87_4\n",
      " ObjectMolecule: read coordinates into state 1...\n",
      " ObjectMolecule: read coordinates into state 1...\n",
      " ObjectMolecule: read coordinates into state 1...\n"
     ]
    },
    {
     "name": "stderr",
     "output_type": "stream",
     "text": [
      "Warning: OE3DToAtomStereo is unable to perceive atom stereo from a flat geometry on atom 26 of molecule ''\n",
      "Warning: OE3DToAtomStereo had a problem during OEWriteMolecule when writing ''\n"
     ]
    },
    {
     "name": "stdout",
     "output_type": "stream",
     "text": [
      "High RMSD of 3.3972752273827083 for ../sars-290125-plato/lig_64_0\n",
      " ObjectMolecule: read coordinates into state 1...\n",
      " ObjectMolecule: read coordinates into state 1...\n",
      "High RMSD of 3.311928652613157 for ../sars-290125-plato/lig_67_2\n",
      " ObjectMolecule: read coordinates into state 1...\n",
      " ObjectMolecule: read coordinates into state 1...\n",
      " ObjectMolecule: read coordinates into state 1...\n",
      " ObjectMolecule: read coordinates into state 1...\n"
     ]
    }
   ],
   "source": [
    "def read_abfe_score(abfe_dir: Path) -> float:\n",
    "    lines = (abfe_dir / \"output\" / \"overall_stats.dat\").read_text().split(\"\\n\")\n",
    "    return float(lines[1].split(\"Mean free energy: \")[1].split(\" \")[0])\n",
    "\n",
    "def extract_best_scored_conformers(sdfs: dict[int, Path], runs: dict[int, dict[int, Path]], align_ref:Path) -> tuple[list[Chem.Mol], list[float]]:\n",
    "    \"\"\"Get the best scored conformer for each ligand from the ABFE runs.\"\"\"\n",
    "\n",
    "    mols = []\n",
    "    # Store the rmsds between the original and equilibrated conformers, when equilibration has been performed\n",
    "    rmsds = []\n",
    "\n",
    "    for mol_idx, sdf in sdfs.items():\n",
    "        conformers = read_sdf(sdf)\n",
    "\n",
    "        # If there is no ABFE run for this ligand, just take the first conformer\n",
    "        if mol_idx not in runs.keys():\n",
    "            mols.append(conformers[0])\n",
    "            continue\n",
    "\n",
    "        # Get the best scored pose index\n",
    "        conformer_scores = {pose_idx: read_abfe_score(abfe_dir) for pose_idx, abfe_dir in runs[mol_idx].items()}\n",
    "        best_pose_idx = min(conformer_scores.keys(), key=lambda x: conformer_scores[x])\n",
    "\n",
    "        # Get the rmsd between the equilibrated and original conformers\n",
    "        best_input_conformer = conformers[best_pose_idx]\n",
    "        best_equil_conformer = get_equil_rdmol(runs[mol_idx][best_pose_idx], align_ref)\n",
    "        rmsd = Chem.rdMolAlign.CalcRMS(best_input_conformer, best_equil_conformer)\n",
    "        if rmsd > 3:\n",
    "            print(f\"High RMSD of {rmsd} for {runs[mol_idx][best_pose_idx]}\")\n",
    "        rmsds.append(rmsd)\n",
    "\n",
    "        mols.append(best_equil_conformer)\n",
    "\n",
    "    return mols, rmsds\n",
    "\n",
    "best_confs_mers, rmsds_mers = extract_best_scored_conformers(MERS_ABFE_SDFS, MERS_ABFE_RUNS, MERS_REF)\n",
    "best_confs_sars, rmsds_sars = extract_best_scored_conformers(SARS_ABFE_SDFS, SARS_ABFE_RUNS, SARS_REF)\n",
    "best_confs_sars_extra, rmsds_sars_extra = extract_best_scored_conformers(SARS_ABFE_EXTRA_POSES_SDFS, SARS_ABFE_EXTRA_POSES_RUNS, SARS_REF)\n",
    "\n",
    "y_pred_mers.extend(best_confs_mers)\n",
    "y_pred_sars.extend(best_confs_sars)\n",
    "y_pred_sars.extend(best_confs_sars_extra)"
   ]
  },
  {
   "cell_type": "code",
   "execution_count": 7,
   "metadata": {},
   "outputs": [
    {
     "data": {
      "text/plain": [
       "Text(0, 0.5, 'Frequency')"
      ]
     },
     "execution_count": 7,
     "metadata": {},
     "output_type": "execute_result"
    },
    {
     "data": {
      "image/png": "[encoded data removed]",
      "text/plain": [
       "<Figure size 640x480 with 1 Axes>"
      ]
     },
     "metadata": {},
     "output_type": "display_data"
    }
   ],
   "source": [
    "# Check out distribution of RMSDs\n",
    "import matplotlib.pyplot as plt\n",
    "import seaborn as sns\n",
    "plt.style.use(\"ggplot\")\n",
    "fig, ax = plt.subplots()\n",
    "rmsds_all = rmsds_sars + rmsds_sars_extra + rmsds_mers\n",
    "sns.histplot(rmsds_all, ax=ax)\n",
    "ax.set_xlabel(\"RMSD / Å\")\n",
    "ax.set_ylabel(\"Frequency\")"
   ]
  },
  {
   "cell_type": "markdown",
   "metadata": {},
   "source": [
    "## Format Submission\n",
    "\n",
    "Merge the conformers into a list with the expected order."
   ]
  },
  {
   "cell_type": "code",
   "execution_count": 9,
   "metadata": {},
   "outputs": [
    {
     "name": "stderr",
     "output_type": "stream",
     "text": [
      "100%|██████████| 195/195 [00:04<00:00, 44.86it/s]\n"
     ]
    }
   ],
   "source": [
    "y_pred_merged = []\n",
    "protein_label_to_pred = {\"MERS-CoV Mpro\": y_pred_mers, \"SARS-CoV-2 Mpro\": y_pred_sars}\n",
    "\n",
    "def remove_double_bond_stereo(smiles:str) -> str:\n",
    "    mol = Chem.MolFromSmiles(smiles)\n",
    "    for bond in mol.GetBonds():\n",
    "        if bond.GetBondType() == Chem.BondType.DOUBLE:\n",
    "            bond.SetStereo(Chem.BondStereo.STEREONONE)  # Remove E/Z info\n",
    "    return Chem.CanonSmiles(Chem.MolToSmiles(mol, isomericSmiles=True))  # Keep chirality\n",
    "\n",
    "for test_idx in tqdm(range(len(test))):\n",
    "    found_match = False\n",
    "    test_smiles = test[test_idx][\"CXSMILES\"]\n",
    "    protein_label = test[test_idx][\"Protein Label\"]\n",
    "\n",
    "    for pred_sdf in protein_label_to_pred[protein_label]:\n",
    "        pred_smiles = Chem.CanonSmiles(Chem.MolToSmiles(pred_sdf))\n",
    "        if test_smiles == pred_smiles:\n",
    "            y_pred_merged.append(pred_sdf)\n",
    "            found_match = True\n",
    "            break\n",
    "\n",
    "    # If we haven't found a match yet, try removing double bond stereochmistry\n",
    "    if not found_match:\n",
    "        for pred_sdf in protein_label_to_pred[protein_label]:\n",
    "            pred_smiles = Chem.CanonSmiles(Chem.MolToSmiles(pred_sdf))\n",
    "            pred_smiles = remove_double_bond_stereo(pred_smiles)\n",
    "            if test_smiles == pred_smiles:\n",
    "                y_pred_merged.append(pred_sdf)\n",
    "                found_match = True\n",
    "                break\n",
    "\n",
    "    if not found_match:\n",
    "        raise RuntimeError(f\"No matching prediction found for test index {test_idx, protein_label, test_smiles}\")"
   ]
  },
  {
   "cell_type": "markdown",
   "metadata": {},
   "source": [
    "Sanity checking..."
   ]
  },
  {
   "cell_type": "code",
   "execution_count": 13,
   "metadata": {},
   "outputs": [],
   "source": [
    "def check_same_ligands(ref_mol: Chem.Mol, pred_mol: Chem.Mol) -> None:\n",
    "    # Check that we only have one conformer\n",
    "    assert ref_mol.GetNumConformers() == 1\n",
    "    assert pred_mol.GetNumConformers() == 1\n",
    "\n",
    "    # Check that the SMILES are the same\n",
    "    ref_smiles = Chem.CanonSmiles(Chem.MolToSmiles(ref_mol))\n",
    "    pred_smiles = Chem.CanonSmiles(Chem.MolToSmiles(pred_mol))\n",
    "    assert ref_smiles == pred_smiles, \"Smiles are not the same\"\n"
   ]
  },
  {
   "cell_type": "code",
   "execution_count": 14,
   "metadata": {},
   "outputs": [],
   "source": [
    "# Check that the coordinates of the first MERS ligand match the input for the best-scoring ABFE conformer\n",
    "# The pose with idx 4 had the best ABFE score for ligand 0\n",
    "ref_mol = read_sdf(MERS_ABFE_RUNS[0][4] / \"input\" / \"ligand.sdf\")[0]\n",
    "pred_mol = y_pred_merged[0]\n",
    "check_same_ligands(ref_mol, pred_mol)\n",
    "\n",
    "# Check that the coordinates of the last MERS ligand match the input for the best-scoring ABFE conformer\n",
    "# The pose with idx 3 had the best ABFE score for this ligand\n",
    "ref_mol = read_sdf(MERS_ABFE_RUNS[96][3] / \"input\" / \"ligand.sdf\")[0]\n",
    "pred_mol = y_pred_merged[-3]\n",
    "check_same_ligands(ref_mol, pred_mol)\n",
    "\n",
    "# Test one SARS ligand\n",
    "ref_mol = read_sdf(SARS_ABFE_RUNS[1][0] / \"input\" / \"ligand.sdf\")[0]\n",
    "pred_mol = y_pred_merged[5]\n",
    "check_same_ligands(ref_mol, pred_mol)"
   ]
  },
  {
   "cell_type": "code",
   "execution_count": 9,
   "metadata": {},
   "outputs": [],
   "source": [
    "# Write out one structure to sdf to visualise\n",
    "with Chem.SDWriter(\"test.sdf\") as writer:\n",
    "    writer.write(y_pred_merged[-3])"
   ]
  },
  {
   "cell_type": "code",
   "execution_count": 15,
   "metadata": {},
   "outputs": [],
   "source": [
    "def serialize_rdkit_mol(mol: Chem.Mol) -> str:\n",
    "    props = Chem.PropertyPickleOptions.AllProps\n",
    "    mol_bytes = mol.ToBinary(props)\n",
    "    return base64.b64encode(mol_bytes).decode('ascii')  \n",
    "\n",
    "\n",
    "y_pred_serialized = [serialize_rdkit_mol(mol) for mol in y_pred_merged]"
   ]
  },
  {
   "cell_type": "markdown",
   "metadata": {},
   "source": [
    "## Submit"
   ]
  },
  {
   "cell_type": "code",
   "execution_count": 16,
   "metadata": {},
   "outputs": [
    {
     "name": "stderr",
     "output_type": "stream",
     "text": [
      "INFO:httpx:HTTP Request: POST https://polarishub.io/api/v1/competition-prediction \"HTTP/1.1 201 Created\"\n"
     ]
    },
    {
     "data": {
      "text/html": [
       "<pre style=\"white-space:pre;overflow-x:auto;line-height:normal;font-family:Menlo,'DejaVu Sans Mono',consolas,'Courier New',monospace\"><span style=\"color: #7fbfbf; text-decoration-color: #7fbfbf\">[07:15:23] </span><span style=\"color: #008000; text-decoration-color: #008000\"> Success: Submitting competition predictions</span>                                               <a href=\"file:///home/finlayclark/anaconda3/envs/mamba/envs/polaris-challenge-a3fe/lib/python3.11/site-packages/polaris/utils/context.py\" target=\"_blank\"><span style=\"color: #7f7f7f; text-decoration-color: #7f7f7f\">context.py</span></a><span style=\"color: #7f7f7f; text-decoration-color: #7f7f7f\">:</span><a href=\"file:///home/finlayclark/anaconda3/envs/mamba/envs/polaris-challenge-a3fe/lib/python3.11/site-packages/polaris/utils/context.py#53\" target=\"_blank\"><span style=\"color: #7f7f7f; text-decoration-color: #7f7f7f\">53</span></a>\n",
       "</pre>\n"
      ],
      "text/plain": [
       "\u001b[2;36m[07:15:23]\u001b[0m\u001b[2;36m \u001b[0m\u001b[32m Success: Submitting competition predictions\u001b[0m                                               \u001b]8;id=341886;file:///home/finlayclark/anaconda3/envs/mamba/envs/polaris-challenge-a3fe/lib/python3.11/site-packages/polaris/utils/context.py\u001b\\\u001b[2mcontext.py\u001b[0m\u001b]8;;\u001b\\\u001b[2m:\u001b[0m\u001b]8;id=71579;file:///home/finlayclark/anaconda3/envs/mamba/envs/polaris-challenge-a3fe/lib/python3.11/site-packages/polaris/utils/context.py#53\u001b\\\u001b[2m53\u001b[0m\u001b]8;;\u001b\\\n"
      ]
     },
     "metadata": {},
     "output_type": "display_data"
    },
    {
     "data": {
      "text/html": [
       "<pre style=\"white-space:pre;overflow-x:auto;line-height:normal;font-family:Menlo,'DejaVu Sans Mono',consolas,'Courier New',monospace\"></pre>\n"
      ],
      "text/plain": []
     },
     "metadata": {},
     "output_type": "display_data"
    }
   ],
   "source": [
    "competition.submit_predictions(\n",
    "    predictions=y_pred_serialized,\n",
    "    prediction_name=\"newcastle-edinburgh-fegrow-a3fe-equilibrated-no-training\",\n",
    "    prediction_owner=\"fjclark\",\n",
    "    report_url=\"https://github.com/michellab/polaris-poses-challenge-fegrow-a3fe\", \n",
    "    github_url=\"https://github.com/michellab/polaris-poses-challenge-fegrow-a3fe\",\n",
    "    description=\"FEgrow/A3FE submission by Finlay Clark, Asma Feriel Khoualdi, Josh Horton, Julien Michel and Daniel Cole (v2). No training data were used.\",\n",
    "    tags=[\"FEgrow\", \"ANI\", \"OpenMM\", \"ABFE\", \"A3FE\", \"MD\"],\n",
    "    user_attributes={\"Framework\": \"FEgrow/A3FE\", \"Method\": \"Constrained geometry optimisation with ML/MM (without use of training set), followed by 0.2 ns of MD equilibration and scoring with fast ABFE calculations.\"}\n",
    ")"
   ]
  }
 ],
 "metadata": {
  "kernelspec": {
   "display_name": "polaris-challenge-a3fe",
   "language": "python",
   "name": "python3"
  },
  "language_info": {
   "codemirror_mode": {
    "name": "ipython",
    "version": 3
   },
   "file_extension": ".py",
   "mimetype": "text/x-python",
   "name": "python",
   "nbconvert_exporter": "python",
   "pygments_lexer": "ipython3",
   "version": "3.11.11"
  }
 },
 "nbformat": 4,
 "nbformat_minor": 2
}
