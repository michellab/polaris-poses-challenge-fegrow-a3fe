{
 "cells": [
  {
   "cell_type": "markdown",
   "metadata": {},
   "source": [
    "# Poses Submission for FEGrow/ A3FE"
   ]
  },
  {
   "cell_type": "code",
   "execution_count": 1,
   "metadata": {},
   "outputs": [
    {
     "data": {
      "text/html": [
       "<pre style=\"white-space:pre;overflow-x:auto;line-height:normal;font-family:Menlo,'DejaVu Sans Mono',consolas,'Courier New',monospace\"><span style=\"color: #7fbfbf; text-decoration-color: #7fbfbf\">[2025-02-25 18:25:50] </span><span style=\"color: #000080; text-decoration-color: #000080\">INFO    </span> The version of Polaris that was used to create the artifact <span style=\"font-weight: bold\">(</span><span style=\"color: #008080; text-decoration-color: #008080; font-weight: bold\">0.11</span>.<span style=\"color: #008080; text-decoration-color: #008080; font-weight: bold\">0</span><span style=\"font-weight: bold\">)</span> <a href=\"file:///home/finlayclark/anaconda3/envs/mamba/envs/polaris-challenge-a3fe/lib/python3.12/site-packages/polaris/_artifact.py\" target=\"_blank\"><span style=\"color: #7f7f7f; text-decoration-color: #7f7f7f\">_artifact.py</span></a><span style=\"color: #7f7f7f; text-decoration-color: #7f7f7f\">:</span><a href=\"file:///home/finlayclark/anaconda3/envs/mamba/envs/polaris-challenge-a3fe/lib/python3.12/site-packages/polaris/_artifact.py#92\" target=\"_blank\"><span style=\"color: #7f7f7f; text-decoration-color: #7f7f7f\">92</span></a>\n",
       "<span style=\"color: #7fbfbf; text-decoration-color: #7fbfbf\">                      </span>         is different from the currently installed version of Polaris         <span style=\"color: #7f7f7f; text-decoration-color: #7f7f7f\">               </span>\n",
       "<span style=\"color: #7fbfbf; text-decoration-color: #7fbfbf\">                      </span>         <span style=\"font-weight: bold\">(</span><span style=\"color: #008080; text-decoration-color: #008080; font-weight: bold\">0.11</span>.<span style=\"color: #008080; text-decoration-color: #008080; font-weight: bold\">8</span><span style=\"font-weight: bold\">)</span>.                                                            <span style=\"color: #7f7f7f; text-decoration-color: #7f7f7f\">               </span>\n",
       "</pre>\n"
      ],
      "text/plain": [
       "\u001b[2;36m[2025-02-25 18:25:50]\u001b[0m\u001b[2;36m \u001b[0m\u001b[34mINFO    \u001b[0m The version of Polaris that was used to create the artifact \u001b[1m(\u001b[0m\u001b[1;36m0.11\u001b[0m.\u001b[1;36m0\u001b[0m\u001b[1m)\u001b[0m \u001b]8;id=914781;file:///home/finlayclark/anaconda3/envs/mamba/envs/polaris-challenge-a3fe/lib/python3.12/site-packages/polaris/_artifact.py\u001b\\\u001b[2m_artifact.py\u001b[0m\u001b]8;;\u001b\\\u001b[2m:\u001b[0m\u001b]8;id=483354;file:///home/finlayclark/anaconda3/envs/mamba/envs/polaris-challenge-a3fe/lib/python3.12/site-packages/polaris/_artifact.py#92\u001b\\\u001b[2m92\u001b[0m\u001b]8;;\u001b\\\n",
       "\u001b[2;36m                      \u001b[0m         is different from the currently installed version of Polaris         \u001b[2m               \u001b[0m\n",
       "\u001b[2;36m                      \u001b[0m         \u001b[1m(\u001b[0m\u001b[1;36m0.11\u001b[0m.\u001b[1;36m8\u001b[0m\u001b[1m)\u001b[0m.                                                            \u001b[2m               \u001b[0m\n"
      ]
     },
     "metadata": {},
     "output_type": "display_data"
    },
    {
     "data": {
      "text/html": [
       "<pre style=\"white-space:pre;overflow-x:auto;line-height:normal;font-family:Menlo,'DejaVu Sans Mono',consolas,'Courier New',monospace\"><span style=\"color: #7fbfbf; text-decoration-color: #7fbfbf\">                      </span><span style=\"color: #808000; text-decoration-color: #808000\">WARNING </span> You're loading data from a remote location. If the dataset is small     <a href=\"file:///home/finlayclark/anaconda3/envs/mamba/envs/polaris-challenge-a3fe/lib/python3.12/site-packages/polaris/dataset/_base.py\" target=\"_blank\"><span style=\"color: #7f7f7f; text-decoration-color: #7f7f7f\">_base.py</span></a><span style=\"color: #7f7f7f; text-decoration-color: #7f7f7f\">:</span><a href=\"file:///home/finlayclark/anaconda3/envs/mamba/envs/polaris-challenge-a3fe/lib/python3.12/site-packages/polaris/dataset/_base.py#181\" target=\"_blank\"><span style=\"color: #7f7f7f; text-decoration-color: #7f7f7f\">181</span></a>\n",
       "<span style=\"color: #7fbfbf; text-decoration-color: #7fbfbf\">                      </span>         enough, consider caching the dataset first using                        <span style=\"color: #7f7f7f; text-decoration-color: #7f7f7f\">            </span>\n",
       "<span style=\"color: #7fbfbf; text-decoration-color: #7fbfbf\">                      </span>         <span style=\"color: #800080; text-decoration-color: #800080; font-weight: bold\">CompetitionSpecification.cache</span><span style=\"font-weight: bold\">()</span> for more performant data access.       <span style=\"color: #7f7f7f; text-decoration-color: #7f7f7f\">            </span>\n",
       "</pre>\n"
      ],
      "text/plain": [
       "\u001b[2;36m                     \u001b[0m\u001b[2;36m \u001b[0m\u001b[33mWARNING \u001b[0m You're loading data from a remote location. If the dataset is small     \u001b]8;id=76498;file:///home/finlayclark/anaconda3/envs/mamba/envs/polaris-challenge-a3fe/lib/python3.12/site-packages/polaris/dataset/_base.py\u001b\\\u001b[2m_base.py\u001b[0m\u001b]8;;\u001b\\\u001b[2m:\u001b[0m\u001b]8;id=458395;file:///home/finlayclark/anaconda3/envs/mamba/envs/polaris-challenge-a3fe/lib/python3.12/site-packages/polaris/dataset/_base.py#181\u001b\\\u001b[2m181\u001b[0m\u001b]8;;\u001b\\\n",
       "\u001b[2;36m                      \u001b[0m         enough, consider caching the dataset first using                        \u001b[2m            \u001b[0m\n",
       "\u001b[2;36m                      \u001b[0m         \u001b[1;35mCompetitionSpecification.cache\u001b[0m\u001b[1m(\u001b[0m\u001b[1m)\u001b[0m for more performant data access.       \u001b[2m            \u001b[0m\n"
      ]
     },
     "metadata": {},
     "output_type": "display_data"
    },
    {
     "data": {
      "application/vnd.jupyter.widget-view+json": {
       "model_id": "4ddd93f237434b79b71fb574f7c10c65",
       "version_major": 2,
       "version_minor": 0
      },
      "text/plain": [
       "Output()"
      ]
     },
     "metadata": {},
     "output_type": "display_data"
    },
    {
     "data": {
      "text/html": [
       "<pre style=\"white-space:pre;overflow-x:auto;line-height:normal;font-family:Menlo,'DejaVu Sans Mono',consolas,'Courier New',monospace\"><span style=\"color: #7fbfbf; text-decoration-color: #7fbfbf\">[18:25:51] </span><span style=\"color: #008000; text-decoration-color: #008000\">Copying to destination </span>                                                                     <a href=\"file:///home/finlayclark/anaconda3/envs/mamba/envs/polaris-challenge-a3fe/lib/python3.12/site-packages/polaris/dataset/_base.py\" target=\"_blank\"><span style=\"color: #7f7f7f; text-decoration-color: #7f7f7f\">_base.py</span></a><span style=\"color: #7f7f7f; text-decoration-color: #7f7f7f\">:</span><a href=\"file:///home/finlayclark/anaconda3/envs/mamba/envs/polaris-challenge-a3fe/lib/python3.12/site-packages/polaris/dataset/_base.py#380\" target=\"_blank\"><span style=\"color: #7f7f7f; text-decoration-color: #7f7f7f\">380</span></a>\n",
       "<span style=\"color: #7fbfbf; text-decoration-color: #7fbfbf\">           </span><span style=\"color: #008000; text-decoration-color: #008000\">/home/finlayclark/.cache/polaris/datasets/8f1eaa9c-c80c-4e94-b39c-3427ff26cf2a/data.zarr</span>    <span style=\"color: #7f7f7f; text-decoration-color: #7f7f7f\">            </span>\n",
       "</pre>\n"
      ],
      "text/plain": [
       "\u001b[2;36m[18:25:51]\u001b[0m\u001b[2;36m \u001b[0m\u001b[32mCopying to destination \u001b[0m                                                                     \u001b]8;id=453665;file:///home/finlayclark/anaconda3/envs/mamba/envs/polaris-challenge-a3fe/lib/python3.12/site-packages/polaris/dataset/_base.py\u001b\\\u001b[2m_base.py\u001b[0m\u001b]8;;\u001b\\\u001b[2m:\u001b[0m\u001b]8;id=105581;file:///home/finlayclark/anaconda3/envs/mamba/envs/polaris-challenge-a3fe/lib/python3.12/site-packages/polaris/dataset/_base.py#380\u001b\\\u001b[2m380\u001b[0m\u001b]8;;\u001b\\\n",
       "\u001b[2;36m           \u001b[0m\u001b[32m/home/finlayclark/.cache/polaris/datasets/8f1eaa9c-c80c-4e94-b39c-3427ff26cf2a/\u001b[0m\u001b[32mdata.zarr\u001b[0m    \u001b[2m            \u001b[0m\n"
      ]
     },
     "metadata": {},
     "output_type": "display_data"
    },
    {
     "data": {
      "text/html": [
       "<pre style=\"white-space:pre;overflow-x:auto;line-height:normal;font-family:Menlo,'DejaVu Sans Mono',consolas,'Courier New',monospace\"><span style=\"color: #7fbfbf; text-decoration-color: #7fbfbf\">           </span><span style=\"color: #808000; text-decoration-color: #808000\">For large Zarr archives, this may take a while.</span>                                             <a href=\"file:///home/finlayclark/anaconda3/envs/mamba/envs/polaris-challenge-a3fe/lib/python3.12/site-packages/polaris/dataset/_base.py\" target=\"_blank\"><span style=\"color: #7f7f7f; text-decoration-color: #7f7f7f\">_base.py</span></a><span style=\"color: #7f7f7f; text-decoration-color: #7f7f7f\">:</span><a href=\"file:///home/finlayclark/anaconda3/envs/mamba/envs/polaris-challenge-a3fe/lib/python3.12/site-packages/polaris/dataset/_base.py#381\" target=\"_blank\"><span style=\"color: #7f7f7f; text-decoration-color: #7f7f7f\">381</span></a>\n",
       "</pre>\n"
      ],
      "text/plain": [
       "\u001b[2;36m          \u001b[0m\u001b[2;36m \u001b[0m\u001b[33mFor large Zarr archives, this may take a while.\u001b[0m                                             \u001b]8;id=743254;file:///home/finlayclark/anaconda3/envs/mamba/envs/polaris-challenge-a3fe/lib/python3.12/site-packages/polaris/dataset/_base.py\u001b\\\u001b[2m_base.py\u001b[0m\u001b]8;;\u001b\\\u001b[2m:\u001b[0m\u001b]8;id=31477;file:///home/finlayclark/anaconda3/envs/mamba/envs/polaris-challenge-a3fe/lib/python3.12/site-packages/polaris/dataset/_base.py#381\u001b\\\u001b[2m381\u001b[0m\u001b]8;;\u001b\\\n"
      ]
     },
     "metadata": {},
     "output_type": "display_data"
    },
    {
     "data": {
      "text/html": [
       "<pre style=\"white-space:pre;overflow-x:auto;line-height:normal;font-family:Menlo,'DejaVu Sans Mono',consolas,'Courier New',monospace\"><span style=\"color: #7fbfbf; text-decoration-color: #7fbfbf\">[18:26:01] </span><span style=\"color: #008000; text-decoration-color: #008000\"> Success: Copying Zarr keys</span>                                                                <a href=\"file:///home/finlayclark/anaconda3/envs/mamba/envs/polaris-challenge-a3fe/lib/python3.12/site-packages/polaris/utils/context.py\" target=\"_blank\"><span style=\"color: #7f7f7f; text-decoration-color: #7f7f7f\">context.py</span></a><span style=\"color: #7f7f7f; text-decoration-color: #7f7f7f\">:</span><a href=\"file:///home/finlayclark/anaconda3/envs/mamba/envs/polaris-challenge-a3fe/lib/python3.12/site-packages/polaris/utils/context.py#53\" target=\"_blank\"><span style=\"color: #7f7f7f; text-decoration-color: #7f7f7f\">53</span></a>\n",
       "</pre>\n"
      ],
      "text/plain": [
       "\u001b[2;36m[18:26:01]\u001b[0m\u001b[2;36m \u001b[0m\u001b[32m Success: Copying Zarr keys\u001b[0m                                                                \u001b]8;id=769216;file:///home/finlayclark/anaconda3/envs/mamba/envs/polaris-challenge-a3fe/lib/python3.12/site-packages/polaris/utils/context.py\u001b\\\u001b[2mcontext.py\u001b[0m\u001b]8;;\u001b\\\u001b[2m:\u001b[0m\u001b]8;id=416298;file:///home/finlayclark/anaconda3/envs/mamba/envs/polaris-challenge-a3fe/lib/python3.12/site-packages/polaris/utils/context.py#53\u001b\\\u001b[2m53\u001b[0m\u001b]8;;\u001b\\\n"
      ]
     },
     "metadata": {},
     "output_type": "display_data"
    },
    {
     "data": {
      "text/html": [
       "<pre style=\"white-space:pre;overflow-x:auto;line-height:normal;font-family:Menlo,'DejaVu Sans Mono',consolas,'Courier New',monospace\"><span style=\"color: #7fbfbf; text-decoration-color: #7fbfbf\">           </span><span style=\"color: #008000; text-decoration-color: #008000\"> Success: Copying Zarr archive</span>                                                             <a href=\"file:///home/finlayclark/anaconda3/envs/mamba/envs/polaris-challenge-a3fe/lib/python3.12/site-packages/polaris/utils/context.py\" target=\"_blank\"><span style=\"color: #7f7f7f; text-decoration-color: #7f7f7f\">context.py</span></a><span style=\"color: #7f7f7f; text-decoration-color: #7f7f7f\">:</span><a href=\"file:///home/finlayclark/anaconda3/envs/mamba/envs/polaris-challenge-a3fe/lib/python3.12/site-packages/polaris/utils/context.py#53\" target=\"_blank\"><span style=\"color: #7f7f7f; text-decoration-color: #7f7f7f\">53</span></a>\n",
       "</pre>\n"
      ],
      "text/plain": [
       "\u001b[2;36m          \u001b[0m\u001b[2;36m \u001b[0m\u001b[32m Success: Copying Zarr archive\u001b[0m                                                             \u001b]8;id=969284;file:///home/finlayclark/anaconda3/envs/mamba/envs/polaris-challenge-a3fe/lib/python3.12/site-packages/polaris/utils/context.py\u001b\\\u001b[2mcontext.py\u001b[0m\u001b]8;;\u001b\\\u001b[2m:\u001b[0m\u001b]8;id=984927;file:///home/finlayclark/anaconda3/envs/mamba/envs/polaris-challenge-a3fe/lib/python3.12/site-packages/polaris/utils/context.py#53\u001b\\\u001b[2m53\u001b[0m\u001b]8;;\u001b\\\n"
      ]
     },
     "metadata": {},
     "output_type": "display_data"
    },
    {
     "data": {
      "text/html": [
       "<pre style=\"white-space:pre;overflow-x:auto;line-height:normal;font-family:Menlo,'DejaVu Sans Mono',consolas,'Courier New',monospace\"></pre>\n"
      ],
      "text/plain": []
     },
     "metadata": {},
     "output_type": "display_data"
    }
   ],
   "source": [
    "import polaris as po\n",
    "import base64\n",
    "from tqdm import tqdm\n",
    "from rdkit import Chem\n",
    "import datamol as dm\n",
    "from pathlib import Path\n",
    "\n",
    "competition = po.load_competition(\"asap-discovery/antiviral-ligand-poses-2025\")\n",
    "competition.cache()\n",
    "_, test = competition.get_train_test_split()"
   ]
  },
  {
   "cell_type": "code",
   "execution_count": 2,
   "metadata": {},
   "outputs": [],
   "source": [
    "def get_abfe_runs_dict(abfe_dir: Path) -> dict[int, [int, Path]]:\n",
    "    \"\"\"Create a dictionary of {ligand_index: {pose_index: Path}} from the ABFE directory.\"\"\"\n",
    "    lig_idxs = set([int(calc_dir.name.split(\"_\")[1]) for calc_dir in abfe_dir.glob(\"lig_*\")])\n",
    "    lig_runs = {}\n",
    "    for lig_idx in lig_idxs:\n",
    "        lig_runs[lig_idx] = {int(calc_dir.name.split(\"_\")[2]): calc_dir for calc_dir in abfe_dir.glob(f\"lig_{lig_idx}_*\")}\n",
    "    return lig_runs\n",
    "\n",
    "# Pure docking\n",
    "MERS_DOCKED_SDF = Path(\"../mers-gnina/merged-MERS.sdf\")\n",
    "MERS_ALTERNATE_PROTONATION = Path(\"../mers-gnina/cs_optimised_reprotonated.sdf\")\n",
    "SARS_DOCKED_SDF = Path(\"../sars-gnina/merged-SARS.sdf\")\n",
    "\n",
    "# ABFE\n",
    "MERS_ABFE_DIR = Path(\"../mers-040225\")\n",
    "# Store the SDFs as a dict of ligand_index: SDF_path\n",
    "MERS_ABFE_SDFS = {int(lig_sdf.name.split(\"_\")[-1].split(\".\")[0]): lig_sdf for lig_sdf in (MERS_ABFE_DIR / \"input\" / \"full_run-MERS\" / \"structures\").glob(\"*.sdf\")}\n",
    "MERS_ABFE_RUNS = get_abfe_runs_dict(MERS_ABFE_DIR)\n",
    "\n",
    "SARS_ABFE_DIR = Path(\"../sars-290125-plato\")\n",
    "SARS_ABFE_SDFS = {int(lig_sdf.name.split(\"_\")[-1].split(\".\")[0]): lig_sdf for lig_sdf in (SARS_ABFE_DIR / \"input\" / \"full_run-SARS\" / \"structures\").glob(\"*.sdf\")}\n",
    "SARS_ABFE_RUNS = get_abfe_runs_dict(SARS_ABFE_DIR)\n",
    "\n",
    "SARS_ABFE_EXTRA_POSES_DIR = Path(\"../sars-extra-poses-210225\")\n",
    "SARS_ABFE_EXTRA_POSES_SDFS = {int(lig_sdf.name.split(\"_\")[-1].split(\".\")[0]): lig_sdf for lig_sdf in (SARS_ABFE_EXTRA_POSES_DIR / \"input\" / \"structures-SARS-comp48\").glob(\"*.sdf\")}\n",
    "SARS_ABFE_EXTRA_POSES_RUNS = get_abfe_runs_dict(SARS_ABFE_EXTRA_POSES_DIR)\n",
    "\n",
    "# Containers for results\n",
    "y_pred_mers = []\n",
    "y_pred_sars = []"
   ]
  },
  {
   "cell_type": "markdown",
   "metadata": {},
   "source": [
    "## Extract Docked Structures\n",
    "\n",
    "These are just the best-scoring (with GNINA) structures from docking (for problematic poses for which ABFE was not run)."
   ]
  },
  {
   "cell_type": "code",
   "execution_count": 3,
   "metadata": {},
   "outputs": [
    {
     "name": "stderr",
     "output_type": "stream",
     "text": [
      "[18:26:01] Warning: molecule is tagged as 2D, but at least one Z coordinate is not zero. Marking the mol as 3D.\n",
      "[18:26:01] Warning: molecule is tagged as 2D, but at least one Z coordinate is not zero. Marking the mol as 3D.\n",
      "[18:26:01] Warning: molecule is tagged as 2D, but at least one Z coordinate is not zero. Marking the mol as 3D.\n",
      "[18:26:01] Warning: molecule is tagged as 2D, but at least one Z coordinate is not zero. Marking the mol as 3D.\n",
      "[18:26:01] Warning: molecule is tagged as 2D, but at least one Z coordinate is not zero. Marking the mol as 3D.\n"
     ]
    }
   ],
   "source": [
    "def read_sdf(sdf:Path)-> list[Chem.Mol]:\n",
    "    with Chem.SDMolSupplier(sdf.as_posix()) as suppl:\n",
    "        mols = [mol for mol in suppl if mol]\n",
    "        # Check that no molecules are None\n",
    "        assert all(mols)\n",
    "    return mols\n",
    "\n",
    "y_pred_mers.extend(read_sdf(MERS_DOCKED_SDF))\n",
    "y_pred_mers.extend(read_sdf(MERS_ALTERNATE_PROTONATION))\n",
    "y_pred_sars.extend(read_sdf(SARS_DOCKED_SDF))"
   ]
  },
  {
   "cell_type": "markdown",
   "metadata": {},
   "source": [
    "## Select the Poses Scored Best with Fast ABFE\n",
    "\n",
    "(Run using A3FE)"
   ]
  },
  {
   "cell_type": "code",
   "execution_count": 5,
   "metadata": {},
   "outputs": [
    {
     "name": "stderr",
     "output_type": "stream",
     "text": [
      "100%|██████████| 96/96 [00:00<00:00, 424.45it/s]\n",
      "100%|██████████| 91/91 [00:00<00:00, 466.75it/s]\n",
      "100%|██████████| 3/3 [00:00<00:00, 537.02it/s]\n"
     ]
    }
   ],
   "source": [
    "def read_abfe_score(abfe_dir: Path) -> float:\n",
    "    lines = (abfe_dir / \"output\" / \"overall_stats.dat\").read_text().split(\"\\n\")\n",
    "    return float(lines[1].split(\"Mean free energy: \")[1].split(\" \")[0])\n",
    "\n",
    "def extract_best_scored_conformers(sdfs: dict[int, Path], runs: dict[int, dict[int, Path]]) -> list[Chem.Mol]:\n",
    "    \"\"\"Get the best scored conformer for each ligand from the ABFE runs.\"\"\"\n",
    "\n",
    "    mols = []\n",
    "\n",
    "    for mol_idx, sdf in tqdm(sdfs.items()):\n",
    "        conformers = read_sdf(sdf)\n",
    "\n",
    "        # If there is no ABFE run for this ligand, just take the first conformer\n",
    "        if mol_idx not in runs.keys():\n",
    "            mols.append(conformers[0])\n",
    "            continue\n",
    "\n",
    "        # Get the best scored conformer\n",
    "        conformer_scores = {pose_idx: read_abfe_score(abfe_dir) for pose_idx, abfe_dir in runs[mol_idx].items()}\n",
    "        best_pose_idx = min(conformer_scores.keys(), key=lambda x: conformer_scores[x])\n",
    "        mols.append(conformers[best_pose_idx])\n",
    "\n",
    "    return mols\n",
    "\n",
    "y_pred_mers.extend(extract_best_scored_conformers(MERS_ABFE_SDFS, MERS_ABFE_RUNS))\n",
    "y_pred_sars.extend(extract_best_scored_conformers(SARS_ABFE_SDFS, SARS_ABFE_RUNS))\n",
    "y_pred_sars.extend(extract_best_scored_conformers(SARS_ABFE_EXTRA_POSES_SDFS, SARS_ABFE_EXTRA_POSES_RUNS))"
   ]
  },
  {
   "cell_type": "markdown",
   "metadata": {},
   "source": [
    "## Format Submission\n",
    "\n",
    "Merge the conformers into a list with the expected order."
   ]
  },
  {
   "cell_type": "code",
   "execution_count": 6,
   "metadata": {},
   "outputs": [
    {
     "name": "stderr",
     "output_type": "stream",
     "text": [
      "100%|██████████| 195/195 [00:04<00:00, 46.44it/s]\n"
     ]
    }
   ],
   "source": [
    "y_pred_merged = []\n",
    "protein_label_to_pred = {\"MERS-CoV Mpro\": y_pred_mers, \"SARS-CoV-2 Mpro\": y_pred_sars}\n",
    "\n",
    "def remove_double_bond_stereo(smiles:str) -> str:\n",
    "    mol = Chem.MolFromSmiles(smiles)\n",
    "    for bond in mol.GetBonds():\n",
    "        if bond.GetBondType() == Chem.BondType.DOUBLE:\n",
    "            bond.SetStereo(Chem.BondStereo.STEREONONE)  # Remove E/Z info\n",
    "    return Chem.CanonSmiles(Chem.MolToSmiles(mol, isomericSmiles=True))  # Keep chirality\n",
    "\n",
    "for test_idx in tqdm(range(len(test))):\n",
    "    found_match = False\n",
    "    test_smiles = test[test_idx][\"CXSMILES\"]\n",
    "    protein_label = test[test_idx][\"Protein Label\"]\n",
    "\n",
    "    for pred_sdf in protein_label_to_pred[protein_label]:\n",
    "        pred_smiles = Chem.CanonSmiles(Chem.MolToSmiles(pred_sdf))\n",
    "        if test_smiles == pred_smiles:\n",
    "            y_pred_merged.append(pred_sdf)\n",
    "            found_match = True\n",
    "            break\n",
    "\n",
    "    # If we haven't found a match yet, try removing double bond stereochmistry\n",
    "    if not found_match:\n",
    "        for pred_sdf in protein_label_to_pred[protein_label]:\n",
    "            pred_smiles = Chem.CanonSmiles(Chem.MolToSmiles(pred_sdf))\n",
    "            pred_smiles = remove_double_bond_stereo(pred_smiles)\n",
    "            if test_smiles == pred_smiles:\n",
    "                y_pred_merged.append(pred_sdf)\n",
    "                found_match = True\n",
    "                break\n",
    "\n",
    "    if not found_match:\n",
    "        raise RuntimeError(f\"No matching prediction found for test index {test_idx, protein_label, test_smiles}\")"
   ]
  },
  {
   "cell_type": "markdown",
   "metadata": {},
   "source": [
    "Sanity checking..."
   ]
  },
  {
   "cell_type": "code",
   "execution_count": 7,
   "metadata": {},
   "outputs": [],
   "source": [
    "def assert_same_coordinates(ref_mol: Chem.Mol, pred_mol: Chem.Mol) -> None:\n",
    "    # Check that we only have one conformer\n",
    "    assert ref_mol.GetNumConformers() == 1\n",
    "    assert pred_mol.GetNumConformers() == 1\n",
    "\n",
    "    # Check that the SMILES are the same\n",
    "    ref_smiles = Chem.CanonSmiles(Chem.MolToSmiles(ref_mol))\n",
    "    pred_smiles = Chem.CanonSmiles(Chem.MolToSmiles(pred_mol))\n",
    "    assert ref_smiles == pred_smiles, \"Smiles are not the same\"\n",
    "\n",
    "    # Check taht the coordinates are the same\n",
    "    ref_coords = ref_mol.GetConformer().GetPositions()\n",
    "    pred_coords = pred_mol.GetConformer().GetPositions()\n",
    "    assert ref_coords.shape == pred_coords.shape\n",
    "    assert (ref_coords == pred_coords).all(), \"Coordinates are not the same\"\n"
   ]
  },
  {
   "cell_type": "code",
   "execution_count": 8,
   "metadata": {},
   "outputs": [],
   "source": [
    "# Check that the coordinates of the first MERS ligand match the input for the best-scoring ABFE conformer\n",
    "# The pose with idx 4 had the best ABFE score for ligand 0\n",
    "ref_mol = read_sdf(MERS_ABFE_RUNS[0][4] / \"input\" / \"ligand.sdf\")[0]\n",
    "pred_mol = y_pred_merged[0]\n",
    "assert_same_coordinates(ref_mol, pred_mol)\n",
    "\n",
    "# Check that the coordinates of the last MERS ligand match the input for the best-scoring ABFE conformer\n",
    "# The pose with idx 3 had the best ABFE score for this ligand\n",
    "ref_mol = read_sdf(MERS_ABFE_RUNS[96][3] / \"input\" / \"ligand.sdf\")[0]\n",
    "pred_mol = y_pred_merged[-3]\n",
    "assert_same_coordinates(ref_mol, pred_mol)\n",
    "\n",
    "# Test one SARS ligand\n",
    "ref_mol = read_sdf(SARS_ABFE_RUNS[1][0] / \"input\" / \"ligand.sdf\")[0]\n",
    "pred_mol = y_pred_merged[5]\n",
    "assert_same_coordinates(ref_mol, pred_mol)"
   ]
  },
  {
   "cell_type": "code",
   "execution_count": 9,
   "metadata": {},
   "outputs": [],
   "source": [
    "# Write out one structure to sdf to visualise\n",
    "with Chem.SDWriter(\"test.sdf\") as writer:\n",
    "    writer.write(y_pred_merged[-3])"
   ]
  },
  {
   "cell_type": "code",
   "execution_count": 10,
   "metadata": {},
   "outputs": [],
   "source": [
    "def serialize_rdkit_mol(mol: Chem.Mol) -> str:\n",
    "    props = Chem.PropertyPickleOptions.AllProps\n",
    "    mol_bytes = mol.ToBinary(props)\n",
    "    return base64.b64encode(mol_bytes).decode('ascii')  \n",
    "\n",
    "\n",
    "y_pred_serialized = [serialize_rdkit_mol(mol) for mol in y_pred_merged]"
   ]
  },
  {
   "cell_type": "markdown",
   "metadata": {},
   "source": [
    "## Submit"
   ]
  },
  {
   "cell_type": "code",
   "execution_count": 11,
   "metadata": {},
   "outputs": [
    {
     "data": {
      "text/html": [
       "<pre style=\"white-space:pre;overflow-x:auto;line-height:normal;font-family:Menlo,'DejaVu Sans Mono',consolas,'Courier New',monospace\"><span style=\"color: #7fbfbf; text-decoration-color: #7fbfbf\">[18:26:12] </span><span style=\"color: #008000; text-decoration-color: #008000\"> Success: Submitting competition predictions</span>                                               <a href=\"file:///home/finlayclark/anaconda3/envs/mamba/envs/polaris-challenge-a3fe/lib/python3.12/site-packages/polaris/utils/context.py\" target=\"_blank\"><span style=\"color: #7f7f7f; text-decoration-color: #7f7f7f\">context.py</span></a><span style=\"color: #7f7f7f; text-decoration-color: #7f7f7f\">:</span><a href=\"file:///home/finlayclark/anaconda3/envs/mamba/envs/polaris-challenge-a3fe/lib/python3.12/site-packages/polaris/utils/context.py#53\" target=\"_blank\"><span style=\"color: #7f7f7f; text-decoration-color: #7f7f7f\">53</span></a>\n",
       "</pre>\n"
      ],
      "text/plain": [
       "\u001b[2;36m[18:26:12]\u001b[0m\u001b[2;36m \u001b[0m\u001b[32m Success: Submitting competition predictions\u001b[0m                                               \u001b]8;id=582851;file:///home/finlayclark/anaconda3/envs/mamba/envs/polaris-challenge-a3fe/lib/python3.12/site-packages/polaris/utils/context.py\u001b\\\u001b[2mcontext.py\u001b[0m\u001b]8;;\u001b\\\u001b[2m:\u001b[0m\u001b]8;id=13390;file:///home/finlayclark/anaconda3/envs/mamba/envs/polaris-challenge-a3fe/lib/python3.12/site-packages/polaris/utils/context.py#53\u001b\\\u001b[2m53\u001b[0m\u001b]8;;\u001b\\\n"
      ]
     },
     "metadata": {},
     "output_type": "display_data"
    },
    {
     "data": {
      "text/html": [
       "<pre style=\"white-space:pre;overflow-x:auto;line-height:normal;font-family:Menlo,'DejaVu Sans Mono',consolas,'Courier New',monospace\"></pre>\n"
      ],
      "text/plain": []
     },
     "metadata": {},
     "output_type": "display_data"
    }
   ],
   "source": [
    "competition.submit_predictions(\n",
    "    predictions=y_pred_serialized,\n",
    "    prediction_name=\"newcastle-edinburgh-fegrow-a3fe\",\n",
    "    prediction_owner=\"fjclark\",\n",
    "    report_url=\"https://github.com/michellab/polaris-poses-challenge-fegrow-a3fe\", \n",
    "    github_url=\"https://github.com/michellab/polaris-poses-challenge-fegrow-a3fe\",\n",
    "    description=\"FEgrow/A3FE submission by Finlay Clark, Asma Feriel Khoualdi, Josh Horton, Julien Michel and Daniel Cole (v1)\",\n",
    "    tags=[\"FEgrow\", \"ANI\", \"OpenMM\", \"ABFE\", \"A3FE\", \"MD\"],\n",
    "    user_attributes={\"Framework\": \"FEgrow/A3FE\", \"Method\": \"Constrained geometry optimisation with ML/MM, followed by scoring with fast ABFE calculations.\"}\n",
    ")"
   ]
  }
 ],
 "metadata": {
  "kernelspec": {
   "display_name": "polaris-challenge-a3fe",
   "language": "python",
   "name": "python3"
  },
  "language_info": {
   "codemirror_mode": {
    "name": "ipython",
    "version": 3
   },
   "file_extension": ".py",
   "mimetype": "text/x-python",
   "name": "python",
   "nbconvert_exporter": "python",
   "pygments_lexer": "ipython3",
   "version": "3.12.8"
  }
 },
 "nbformat": 4,
 "nbformat_minor": 2
}
