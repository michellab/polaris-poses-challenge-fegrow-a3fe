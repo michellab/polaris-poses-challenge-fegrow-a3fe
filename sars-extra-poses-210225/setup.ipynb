{
 "cells": [
  {
   "cell_type": "markdown",
   "metadata": {},
   "source": [
    "# Setup A3FE Runs from FEGrow Output"
   ]
  },
  {
   "cell_type": "code",
   "execution_count": 1,
   "metadata": {},
   "outputs": [],
   "source": [
    "import os\n",
    "from rdkit import Chem\n",
    "from rdkit.Chem import rdMolAlign\n",
    "\n",
    "RMSD_FILTER_THRESHOLD = 0.5"
   ]
  },
  {
   "cell_type": "code",
   "execution_count": 2,
   "metadata": {},
   "outputs": [
    {
     "name": "stdout",
     "output_type": "stream",
     "text": [
      "Processing best_conformers_12.sdf\n",
      "Skipping best_conformers_12.sdf because it only has 1 conformer\n",
      "Processing best_conformers_57.sdf\n",
      "best_conformers_57.sdf conformer 1 has a minimum RMSD to conformer 0 of 0.014365684158992496\n",
      "best_conformers_57.sdf conformer 3 has a minimum RMSD to conformer 2 of 0.006638357975446073\n",
      "best_conformers_57.sdf conformer 6 has a minimum RMSD to conformer 5 of 0.015104158143383561\n",
      "best_conformers_57.sdf conformer 8 has a minimum RMSD to conformer 7 of 0.011696732848194584\n",
      "Processing best_conformers_58.sdf\n"
     ]
    }
   ],
   "source": [
    "# Get all the pdb files\n",
    "sdfs = [f for f in os.listdir('input/structures-SARS-comp48') if f.endswith('.sdf')]\n",
    "# Sort by the number in the filename\n",
    "sdfs.sort(key=lambda x: int(x.split('.')[0].split('_')[-1]))\n",
    "\n",
    "# Read in all conformers with RDKit\n",
    "conformers = {}\n",
    "for sdf in sdfs:\n",
    "    mol_num = sdf.split('.')[0].split('_')[-1]\n",
    "    print(f'Processing {sdf}')\n",
    "\n",
    "    # Get from sdf, keeping hydrogens\n",
    "    mols = Chem.SDMolSupplier(f'input/structures-SARS-comp48/{sdf}', removeHs=False)\n",
    "\n",
    "    # Filter out molecules with low RMSD difference to any other conformer\n",
    "    filtered_mols = {}\n",
    "    for i, conf in enumerate(mols):\n",
    "        rmsds = [rdMolAlign.CalcRMS(conf, filtered_conf) for filtered_conf in filtered_mols.values()]\n",
    "        if all(rmsd > RMSD_FILTER_THRESHOLD for rmsd in rmsds):\n",
    "            filtered_mols[i] = conf\n",
    "        else:\n",
    "            # Get the conformer with the minimum RMSD\n",
    "            min_rmsd_idx = rmsds.index(min(rmsds))\n",
    "            min_rmsd_conf_name = list(filtered_mols.keys())[min_rmsd_idx]\n",
    "            print(f'{sdf} conformer {i} has a minimum RMSD to conformer {min_rmsd_conf_name} of {min(rmsds)}')\n",
    "\n",
    "    # If there's only 1 conformer, skip it\n",
    "    if len(filtered_mols) == 1:\n",
    "        print(f'Skipping {sdf} because it only has 1 conformer')\n",
    "        continue\n",
    "\n",
    "    for i, conf in filtered_mols.items():\n",
    "        conf_name = f'lig_{mol_num}_{i}'\n",
    "        conformers[conf_name] = conf"
   ]
  },
  {
   "cell_type": "code",
   "execution_count": 3,
   "metadata": {},
   "outputs": [
    {
     "data": {
      "text/plain": [
       "7"
      ]
     },
     "execution_count": 3,
     "metadata": {},
     "output_type": "execute_result"
    }
   ],
   "source": [
    "len(conformers)"
   ]
  },
  {
   "cell_type": "code",
   "execution_count": 4,
   "metadata": {},
   "outputs": [
    {
     "data": {
      "text/plain": [
       "[]"
      ]
     },
     "execution_count": 4,
     "metadata": {},
     "output_type": "execute_result"
    }
   ],
   "source": [
    "# Get all of the +1 ligands\n",
    "positive_1_ligs = [mol for mol in conformers if Chem.GetFormalCharge(conformers[mol]) == 1]\n",
    "positive_1_ligs"
   ]
  },
  {
   "cell_type": "code",
   "execution_count": 5,
   "metadata": {},
   "outputs": [],
   "source": [
    "# Get all of the charged ligands\n",
    "charged_ligands = [mol for mol in conformers if Chem.GetFormalCharge(conformers[mol]) != 0]"
   ]
  },
  {
   "cell_type": "code",
   "execution_count": 6,
   "metadata": {},
   "outputs": [
    {
     "data": {
      "text/plain": [
       "[]"
      ]
     },
     "execution_count": 6,
     "metadata": {},
     "output_type": "execute_result"
    }
   ],
   "source": [
    "charged_ligands"
   ]
  },
  {
   "cell_type": "code",
   "execution_count": 12,
   "metadata": {},
   "outputs": [],
   "source": [
    "# Create directories for each ligand\n",
    "\n",
    "def create_dir(ligand_name, ligand_rdmol):\n",
    "    \n",
    "    # Make the directory\n",
    "    input_dir = f'{ligand_name}/input'\n",
    "    os.makedirs(input_dir, exist_ok=False)\n",
    "\n",
    "    # Create soft links to the run_somd.sh and template_config.cfg files\n",
    "    os.symlink('../../input/run_somd.sh', f'{input_dir}/run_somd.sh')\n",
    "\n",
    "    # If the ligand is charged, use the charged template\n",
    "    if ligand_name in charged_ligands:\n",
    "        os.symlink('../../input/template_config_charged.cfg', f'{input_dir}/template_config.cfg')\n",
    "    else:\n",
    "        os.symlink('../../input/template_config.cfg', f'{input_dir}/template_config.cfg')\n",
    "\n",
    "    # Copy in the SARS structure\n",
    "    os.symlink(f'../../input/structures-SARS-comp48/protein_sanitised.pdb', f'{input_dir}/protein.pdb')\n",
    "\n",
    "    # Write out the ligand as ligand.sdf, with hydrogens\n",
    "    with Chem.SDWriter(f'{input_dir}/ligand.sdf') as writer:\n",
    "        writer.write(ligand_rdmol)\n",
    "\n",
    "for lig_name, lig_rdmol in conformers.items():\n",
    "    create_dir(lig_name, lig_rdmol)\n"
   ]
  },
  {
   "cell_type": "code",
   "execution_count": 10,
   "metadata": {},
   "outputs": [],
   "source": [
    "# Sort first by the ligand number, then by the conformer number\n",
    "lig_dirs = [d for d in os.listdir() if \"lig\" in d]\n",
    "lig_dirs.sort(key=lambda x: (int(x.split('_')[1]), int(x.split('_')[2])))"
   ]
  },
  {
   "cell_type": "code",
   "execution_count": 11,
   "metadata": {},
   "outputs": [
    {
     "name": "stdout",
     "output_type": "stream",
     "text": [
      "0: lig_57_0\n",
      "1: lig_57_2\n",
      "2: lig_57_4\n",
      "3: lig_57_5\n",
      "4: lig_57_7\n",
      "5: lig_58_0\n",
      "6: lig_58_1\n"
     ]
    }
   ],
   "source": [
    "for i, lig_dir in enumerate(lig_dirs):\n",
    "    print(f'{i}: {lig_dir}')"
   ]
  }
 ],
 "metadata": {
  "kernelspec": {
   "display_name": "polaris-challenge-a3fe",
   "language": "python",
   "name": "python3"
  },
  "language_info": {
   "codemirror_mode": {
    "name": "ipython",
    "version": 3
   },
   "file_extension": ".py",
   "mimetype": "text/x-python",
   "name": "python",
   "nbconvert_exporter": "python",
   "pygments_lexer": "ipython3",
   "version": "3.12.8"
  }
 },
 "nbformat": 4,
 "nbformat_minor": 2
}
